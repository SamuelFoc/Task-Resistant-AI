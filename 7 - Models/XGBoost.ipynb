{
 "cells": [
  {
   "cell_type": "markdown",
   "metadata": {},
   "source": [
    "## Creating a Model"
   ]
  },
  {
   "cell_type": "code",
   "execution_count": 1,
   "metadata": {},
   "outputs": [],
   "source": [
    "import pandas as pd\n",
    "\n",
    "# df = pd.read_parquet(\"../0 - Data/5 - pcas/ft_strategy_2_pca.pq\")\n",
    "df = pd.read_parquet(\"../0 - Data/4 - scaled/ft_strategy_2_scaled.pq\")\n",
    "\n",
    "# df.head()"
   ]
  },
  {
   "cell_type": "markdown",
   "metadata": {},
   "source": [
    "#### Split the data into training and test"
   ]
  },
  {
   "cell_type": "code",
   "execution_count": 2,
   "metadata": {},
   "outputs": [],
   "source": [
    "df['Datetime'] = pd.to_datetime(df['Datetime'])\n",
    "\n",
    "split_date = '2019-10-01 00:00:00'\n",
    "\n",
    "train_data = df[df['Datetime'] < split_date]\n",
    "test_data = df[df['Datetime'] >= split_date]"
   ]
  },
  {
   "cell_type": "markdown",
   "metadata": {},
   "source": [
    "#### Drop the Datetime Column"
   ]
  },
  {
   "cell_type": "code",
   "execution_count": 3,
   "metadata": {},
   "outputs": [],
   "source": [
    "train_data = train_data.drop([\"Datetime\"], axis=1)\n",
    "test_data = test_data.drop([\"Datetime\"], axis=1)"
   ]
  },
  {
   "cell_type": "markdown",
   "metadata": {},
   "source": [
    "#### Create X and y Vectors"
   ]
  },
  {
   "cell_type": "code",
   "execution_count": 4,
   "metadata": {},
   "outputs": [],
   "source": [
    "target_column = 'Is Fraud'\n",
    "\n",
    "# Separate features and target for the training set\n",
    "X_train = train_data.drop(target_column, axis=1)\n",
    "y_train = train_data[target_column]\n",
    "\n",
    "# Separate features and target for the test set\n",
    "X_test = test_data.drop(target_column, axis=1)\n",
    "y_test = test_data[target_column]"
   ]
  },
  {
   "cell_type": "markdown",
   "metadata": {},
   "source": [
    "#### Train the Model"
   ]
  },
  {
   "cell_type": "code",
   "execution_count": 5,
   "metadata": {},
   "outputs": [],
   "source": [
    "import xgboost as xgb\n",
    "\n",
    "# Convert your dataset to DMatrix, XGBoost's internal data structure\n",
    "dtrain = xgb.DMatrix(X_train, label=y_train)\n",
    "\n",
    "# Set parameters for Random Forest using GPU\n",
    "params = {\n",
    "    'objective': 'binary:logistic',     # Adjust for your task (e.g., classification or regression)\n",
    "    'tree_method': 'hist',              # Use histogram-based algorithm\n",
    "    'max_depth': 6,                     # Depth of trees\n",
    "    'device': 'cuda'                    # Select the GPU\n",
    "}\n",
    "\n",
    "# Train the Random Forest using XGBoost in RF mode\n",
    "model = xgb.train(params, dtrain, num_boost_round=100)"
   ]
  },
  {
   "cell_type": "markdown",
   "metadata": {},
   "source": [
    "#### Convert the Test Data into DMatrix for XGBoost"
   ]
  },
  {
   "cell_type": "code",
   "execution_count": 6,
   "metadata": {},
   "outputs": [],
   "source": [
    "# Convert the test set to DMatrix\n",
    "dtest = xgb.DMatrix(X_test)\n",
    "\n",
    "# Make probability predictions\n",
    "y_pred_proba = model.predict(dtest)\n",
    "\n",
    "# Convert probabilities to binary predictions (0 or 1) based on a threshold, usually 0.5\n",
    "y_pred = [1 if prob > 0.5 else 0 for prob in y_pred_proba]"
   ]
  },
  {
   "cell_type": "markdown",
   "metadata": {},
   "source": [
    "#### Test the Predictions"
   ]
  },
  {
   "cell_type": "code",
   "execution_count": 7,
   "metadata": {},
   "outputs": [
    {
     "name": "stdout",
     "output_type": "stream",
     "text": [
      "Accuracy: 0.9995753118090632\n"
     ]
    }
   ],
   "source": [
    "from sklearn.metrics import accuracy_score\n",
    "\n",
    "# Calculate accuracy\n",
    "accuracy = accuracy_score(y_test, y_pred)\n",
    "print(f\"Accuracy: {accuracy}\")"
   ]
  },
  {
   "cell_type": "code",
   "execution_count": 8,
   "metadata": {},
   "outputs": [
    {
     "name": "stdout",
     "output_type": "stream",
     "text": [
      "Metrics for ft-tstrategy-2-pca-dim-30 saved to XGBoost_metrics.csv.\n"
     ]
    }
   ],
   "source": [
    "from sklearn.metrics import classification_report\n",
    "\n",
    "data_label = \"ft-tstrategy-2\"  # Update this label for each dataset\n",
    "\n",
    "# Calculate the classification report\n",
    "report = classification_report(y_test, y_pred, output_dict=True)\n",
    "\n",
    "# Extract metrics for class 0 and class 1\n",
    "metrics = {\n",
    "    'data_label': [data_label],\n",
    "    'precision_0': [report['0']['precision']],\n",
    "    'recall_0': [report['0']['recall']],\n",
    "    'f1_score_0': [report['0']['f1-score']],\n",
    "    'precision_1': [report['1']['precision']],\n",
    "    'recall_1': [report['1']['recall']],\n",
    "    'f1_score_1': [report['1']['f1-score']]\n",
    "}\n",
    "\n",
    "# Convert metrics to DataFrame\n",
    "metrics_df = pd.DataFrame(metrics)\n",
    "\n",
    "# Append to CSV file (or create if it doesn't exist)\n",
    "output_file = \"XGBoost_metrics.csv\"\n",
    "try:\n",
    "    # Append if file exists\n",
    "    metrics_df.to_csv(output_file, mode='a', index=False, header=not pd.read_csv(output_file).empty)\n",
    "except FileNotFoundError:\n",
    "    # Create file if it doesn't exist\n",
    "    metrics_df.to_csv(output_file, index=False)\n",
    "\n",
    "print(f\"Metrics for {data_label} saved to {output_file}.\")"
   ]
  }
 ],
 "metadata": {
  "kernelspec": {
   "display_name": ".datascience",
   "language": "python",
   "name": "python3"
  },
  "language_info": {
   "codemirror_mode": {
    "name": "ipython",
    "version": 3
   },
   "file_extension": ".py",
   "mimetype": "text/x-python",
   "name": "python",
   "nbconvert_exporter": "python",
   "pygments_lexer": "ipython3",
   "version": "3.12.3"
  }
 },
 "nbformat": 4,
 "nbformat_minor": 2
}
