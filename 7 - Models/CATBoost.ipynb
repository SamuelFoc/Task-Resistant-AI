{
 "cells": [
  {
   "cell_type": "markdown",
   "metadata": {},
   "source": [
    "## Creating a Model"
   ]
  },
  {
   "cell_type": "code",
   "execution_count": 1,
   "metadata": {},
   "outputs": [
    {
     "data": {
      "text/html": [
       "<div>\n",
       "<style scoped>\n",
       "    .dataframe tbody tr th:only-of-type {\n",
       "        vertical-align: middle;\n",
       "    }\n",
       "\n",
       "    .dataframe tbody tr th {\n",
       "        vertical-align: top;\n",
       "    }\n",
       "\n",
       "    .dataframe thead th {\n",
       "        text-align: right;\n",
       "    }\n",
       "</style>\n",
       "<table border=\"1\" class=\"dataframe\">\n",
       "  <thead>\n",
       "    <tr style=\"text-align: right;\">\n",
       "      <th></th>\n",
       "      <th>Amount</th>\n",
       "      <th>MCC</th>\n",
       "      <th>Has Chip</th>\n",
       "      <th>Cards Issued</th>\n",
       "      <th>Credit Limit</th>\n",
       "      <th>Current Age</th>\n",
       "      <th>Retirement Age</th>\n",
       "      <th>Latitude</th>\n",
       "      <th>Longitude</th>\n",
       "      <th>Per Capita Income - Zipcode</th>\n",
       "      <th>...</th>\n",
       "      <th>Use Chip_Online Transaction</th>\n",
       "      <th>Use Chip_Swipe Transaction</th>\n",
       "      <th>Card Type_Debit</th>\n",
       "      <th>Card Type_Debit (Prepaid)</th>\n",
       "      <th>Gender_Male</th>\n",
       "      <th>Age Group_26-35</th>\n",
       "      <th>Age Group_36-45</th>\n",
       "      <th>Age Group_46-60</th>\n",
       "      <th>Age Group_60+</th>\n",
       "      <th>Is Fraud</th>\n",
       "    </tr>\n",
       "  </thead>\n",
       "  <tbody>\n",
       "    <tr>\n",
       "      <th>6780</th>\n",
       "      <td>1.025128</td>\n",
       "      <td>-0.028966</td>\n",
       "      <td>0.337145</td>\n",
       "      <td>0.963448</td>\n",
       "      <td>0.738314</td>\n",
       "      <td>-0.09811</td>\n",
       "      <td>-0.185577</td>\n",
       "      <td>-0.631234</td>\n",
       "      <td>-1.563208</td>\n",
       "      <td>0.447753</td>\n",
       "      <td>...</td>\n",
       "      <td>False</td>\n",
       "      <td>True</td>\n",
       "      <td>True</td>\n",
       "      <td>False</td>\n",
       "      <td>False</td>\n",
       "      <td>False</td>\n",
       "      <td>False</td>\n",
       "      <td>True</td>\n",
       "      <td>False</td>\n",
       "      <td>0</td>\n",
       "    </tr>\n",
       "    <tr>\n",
       "      <th>6781</th>\n",
       "      <td>1.025128</td>\n",
       "      <td>-0.028966</td>\n",
       "      <td>0.337145</td>\n",
       "      <td>0.963448</td>\n",
       "      <td>0.551106</td>\n",
       "      <td>-0.09811</td>\n",
       "      <td>-0.185577</td>\n",
       "      <td>-0.631234</td>\n",
       "      <td>-1.563208</td>\n",
       "      <td>0.447753</td>\n",
       "      <td>...</td>\n",
       "      <td>False</td>\n",
       "      <td>True</td>\n",
       "      <td>True</td>\n",
       "      <td>False</td>\n",
       "      <td>False</td>\n",
       "      <td>False</td>\n",
       "      <td>False</td>\n",
       "      <td>True</td>\n",
       "      <td>False</td>\n",
       "      <td>0</td>\n",
       "    </tr>\n",
       "    <tr>\n",
       "      <th>6782</th>\n",
       "      <td>1.025128</td>\n",
       "      <td>-0.028966</td>\n",
       "      <td>0.337145</td>\n",
       "      <td>0.963448</td>\n",
       "      <td>2.517794</td>\n",
       "      <td>-0.09811</td>\n",
       "      <td>-0.185577</td>\n",
       "      <td>-0.631234</td>\n",
       "      <td>-1.563208</td>\n",
       "      <td>0.447753</td>\n",
       "      <td>...</td>\n",
       "      <td>False</td>\n",
       "      <td>True</td>\n",
       "      <td>True</td>\n",
       "      <td>False</td>\n",
       "      <td>False</td>\n",
       "      <td>False</td>\n",
       "      <td>False</td>\n",
       "      <td>True</td>\n",
       "      <td>False</td>\n",
       "      <td>0</td>\n",
       "    </tr>\n",
       "    <tr>\n",
       "      <th>6783</th>\n",
       "      <td>1.025128</td>\n",
       "      <td>-0.028966</td>\n",
       "      <td>-2.966079</td>\n",
       "      <td>-0.967922</td>\n",
       "      <td>-0.218642</td>\n",
       "      <td>-0.09811</td>\n",
       "      <td>-0.185577</td>\n",
       "      <td>-0.631234</td>\n",
       "      <td>-1.563208</td>\n",
       "      <td>0.447753</td>\n",
       "      <td>...</td>\n",
       "      <td>False</td>\n",
       "      <td>True</td>\n",
       "      <td>False</td>\n",
       "      <td>False</td>\n",
       "      <td>False</td>\n",
       "      <td>False</td>\n",
       "      <td>False</td>\n",
       "      <td>True</td>\n",
       "      <td>False</td>\n",
       "      <td>0</td>\n",
       "    </tr>\n",
       "    <tr>\n",
       "      <th>6784</th>\n",
       "      <td>1.025128</td>\n",
       "      <td>-0.028966</td>\n",
       "      <td>0.337145</td>\n",
       "      <td>-0.967922</td>\n",
       "      <td>-1.213973</td>\n",
       "      <td>-0.09811</td>\n",
       "      <td>-0.185577</td>\n",
       "      <td>-0.631234</td>\n",
       "      <td>-1.563208</td>\n",
       "      <td>0.447753</td>\n",
       "      <td>...</td>\n",
       "      <td>False</td>\n",
       "      <td>True</td>\n",
       "      <td>False</td>\n",
       "      <td>True</td>\n",
       "      <td>False</td>\n",
       "      <td>False</td>\n",
       "      <td>False</td>\n",
       "      <td>True</td>\n",
       "      <td>False</td>\n",
       "      <td>0</td>\n",
       "    </tr>\n",
       "  </tbody>\n",
       "</table>\n",
       "<p>5 rows × 40 columns</p>\n",
       "</div>"
      ],
      "text/plain": [
       "        Amount       MCC  Has Chip  Cards Issued  Credit Limit  Current Age  \\\n",
       "6780  1.025128 -0.028966  0.337145      0.963448      0.738314     -0.09811   \n",
       "6781  1.025128 -0.028966  0.337145      0.963448      0.551106     -0.09811   \n",
       "6782  1.025128 -0.028966  0.337145      0.963448      2.517794     -0.09811   \n",
       "6783  1.025128 -0.028966 -2.966079     -0.967922     -0.218642     -0.09811   \n",
       "6784  1.025128 -0.028966  0.337145     -0.967922     -1.213973     -0.09811   \n",
       "\n",
       "      Retirement Age  Latitude  Longitude  Per Capita Income - Zipcode  ...  \\\n",
       "6780       -0.185577 -0.631234  -1.563208                     0.447753  ...   \n",
       "6781       -0.185577 -0.631234  -1.563208                     0.447753  ...   \n",
       "6782       -0.185577 -0.631234  -1.563208                     0.447753  ...   \n",
       "6783       -0.185577 -0.631234  -1.563208                     0.447753  ...   \n",
       "6784       -0.185577 -0.631234  -1.563208                     0.447753  ...   \n",
       "\n",
       "      Use Chip_Online Transaction  Use Chip_Swipe Transaction  \\\n",
       "6780                        False                        True   \n",
       "6781                        False                        True   \n",
       "6782                        False                        True   \n",
       "6783                        False                        True   \n",
       "6784                        False                        True   \n",
       "\n",
       "      Card Type_Debit  Card Type_Debit (Prepaid) Gender_Male  Age Group_26-35  \\\n",
       "6780             True                      False       False            False   \n",
       "6781             True                      False       False            False   \n",
       "6782             True                      False       False            False   \n",
       "6783            False                      False       False            False   \n",
       "6784            False                       True       False            False   \n",
       "\n",
       "      Age Group_36-45  Age Group_46-60  Age Group_60+  Is Fraud  \n",
       "6780            False             True          False         0  \n",
       "6781            False             True          False         0  \n",
       "6782            False             True          False         0  \n",
       "6783            False             True          False         0  \n",
       "6784            False             True          False         0  \n",
       "\n",
       "[5 rows x 40 columns]"
      ]
     },
     "execution_count": 1,
     "metadata": {},
     "output_type": "execute_result"
    }
   ],
   "source": [
    "import pandas as pd\n",
    "\n",
    "# df = pd.read_parquet(\"../0 - Data/5 - pcas/ft_strategy_1_pca.pq\")\n",
    "df = pd.read_parquet(\"../0 - Data/4 - scaled/ft_strategy_2_scaled.pq\")\n",
    "\n",
    "df.head()"
   ]
  },
  {
   "cell_type": "markdown",
   "metadata": {},
   "source": [
    "#### Split the data into training and test"
   ]
  },
  {
   "cell_type": "code",
   "execution_count": 2,
   "metadata": {},
   "outputs": [],
   "source": [
    "df['Datetime'] = pd.to_datetime(df['Datetime'])\n",
    "\n",
    "split_date = '2019-10-01 00:00:00'\n",
    "\n",
    "train_data = df[df['Datetime'] < split_date]\n",
    "test_data = df[df['Datetime'] >= split_date]"
   ]
  },
  {
   "cell_type": "markdown",
   "metadata": {},
   "source": [
    "#### Drop the Datetime Column"
   ]
  },
  {
   "cell_type": "code",
   "execution_count": 3,
   "metadata": {},
   "outputs": [],
   "source": [
    "train_data = train_data.drop([\"Datetime\"], axis=1)\n",
    "test_data = test_data.drop([\"Datetime\"], axis=1)"
   ]
  },
  {
   "cell_type": "markdown",
   "metadata": {},
   "source": [
    "#### Create X and y Vectors"
   ]
  },
  {
   "cell_type": "code",
   "execution_count": 4,
   "metadata": {},
   "outputs": [],
   "source": [
    "target_column = 'Is Fraud'\n",
    "\n",
    "# Separate features and target for the training set\n",
    "X_train = train_data.drop(target_column, axis=1)\n",
    "y_train = train_data[target_column]\n",
    "\n",
    "# Separate features and target for the test set\n",
    "X_test = test_data.drop(target_column, axis=1)\n",
    "y_test = test_data[target_column]"
   ]
  },
  {
   "cell_type": "markdown",
   "metadata": {},
   "source": [
    "#### Train the Model"
   ]
  },
  {
   "cell_type": "code",
   "execution_count": 5,
   "metadata": {},
   "outputs": [
    {
     "name": "stderr",
     "output_type": "stream",
     "text": [
      "Default metric period is 5 because AUC is/are not implemented for GPU\n"
     ]
    },
    {
     "name": "stdout",
     "output_type": "stream",
     "text": [
      "0:\ttotal: 202ms\tremaining: 6m 44s\n",
      "100:\ttotal: 17.6s\tremaining: 5m 31s\n",
      "200:\ttotal: 34.7s\tremaining: 5m 10s\n",
      "300:\ttotal: 51.9s\tremaining: 4m 53s\n",
      "400:\ttotal: 1m 9s\tremaining: 4m 35s\n",
      "500:\ttotal: 1m 26s\tremaining: 4m 18s\n",
      "600:\ttotal: 1m 43s\tremaining: 4m 1s\n",
      "700:\ttotal: 2m 1s\tremaining: 3m 44s\n",
      "800:\ttotal: 2m 18s\tremaining: 3m 27s\n",
      "900:\ttotal: 2m 35s\tremaining: 3m 10s\n",
      "1000:\ttotal: 2m 53s\tremaining: 2m 53s\n",
      "1100:\ttotal: 3m 11s\tremaining: 2m 36s\n",
      "1200:\ttotal: 3m 29s\tremaining: 2m 19s\n",
      "1300:\ttotal: 3m 47s\tremaining: 2m 2s\n",
      "1400:\ttotal: 4m 5s\tremaining: 1m 44s\n",
      "1500:\ttotal: 4m 23s\tremaining: 1m 27s\n",
      "1600:\ttotal: 4m 41s\tremaining: 1m 10s\n",
      "1700:\ttotal: 4m 59s\tremaining: 52.7s\n",
      "1800:\ttotal: 5m 18s\tremaining: 35.2s\n",
      "1900:\ttotal: 5m 36s\tremaining: 17.5s\n",
      "1999:\ttotal: 5m 55s\tremaining: 0us\n"
     ]
    },
    {
     "data": {
      "text/plain": [
       "<catboost.core.CatBoostClassifier at 0x2531ae79a30>"
      ]
     },
     "execution_count": 5,
     "metadata": {},
     "output_type": "execute_result"
    }
   ],
   "source": [
    "from catboost import CatBoostClassifier\n",
    "\n",
    "\n",
    "params = {\n",
    "    \"iterations\": 2000,  # Increased for better exploration of patterns\n",
    "    \"learning_rate\": 0.03,  # Reduced for finer adjustments per iteration\n",
    "    \"depth\": 8,  # Keep moderate depth, adjust based on tests\n",
    "    \"loss_function\": 'Logloss',\n",
    "    \"eval_metric\": 'AUC',\n",
    "    \"verbose\": 100,  # Print progress for better tracking\n",
    "    \"random_state\": 42,\n",
    "    \"task_type\": 'GPU',\n",
    "    \"devices\": '0',\n",
    "    \"class_weights\": [1, 10],  # Adjusted if true ratio differs\n",
    "    \"early_stopping_rounds\": 100,  # Stop early if no improvement\n",
    "    \"l2_leaf_reg\": 3,  # Regularization to prevent overfitting\n",
    "}\n",
    "\n",
    "# Initialize the CatBoost model\n",
    "model = CatBoostClassifier(**params)\n",
    "\n",
    "# Train the model\n",
    "model.fit(X_train, y_train)"
   ]
  },
  {
   "cell_type": "markdown",
   "metadata": {},
   "source": [
    "#### Model Predictions"
   ]
  },
  {
   "cell_type": "code",
   "execution_count": 6,
   "metadata": {},
   "outputs": [],
   "source": [
    "# Make probability predictions\n",
    "y_pred_proba = model.predict(X_test)\n",
    "\n",
    "# Convert probabilities to binary predictions (0 or 1) based on a threshold, usually 0.5\n",
    "y_pred = [1 if prob > 0.5 else 0 for prob in y_pred_proba]"
   ]
  },
  {
   "cell_type": "markdown",
   "metadata": {},
   "source": [
    "#### Test the Predictions"
   ]
  },
  {
   "cell_type": "code",
   "execution_count": 7,
   "metadata": {},
   "outputs": [
    {
     "name": "stdout",
     "output_type": "stream",
     "text": [
      "Accuracy: 0.9992621276541609\n"
     ]
    }
   ],
   "source": [
    "from sklearn.metrics import accuracy_score\n",
    "\n",
    "# Calculate accuracy\n",
    "accuracy = accuracy_score(y_test, y_pred)\n",
    "print(f\"Accuracy: {accuracy}\")"
   ]
  },
  {
   "cell_type": "code",
   "execution_count": 8,
   "metadata": {},
   "outputs": [
    {
     "name": "stdout",
     "output_type": "stream",
     "text": [
      "Metrics for ft-tstrategy-2 saved to CATBoost_metrics.csv.\n"
     ]
    }
   ],
   "source": [
    "from sklearn.metrics import classification_report\n",
    "\n",
    "data_label = \"ft-tstrategy-2\"  # Update this label for each dataset\n",
    "\n",
    "# Calculate the classification report\n",
    "report = classification_report(y_test, y_pred, output_dict=True)\n",
    "\n",
    "# Extract metrics for class 0 and class 1\n",
    "metrics = {\n",
    "    'data_label': [data_label],\n",
    "    'precision_0': [report['0']['precision']],\n",
    "    'recall_0': [report['0']['recall']],\n",
    "    'f1_score_0': [report['0']['f1-score']],\n",
    "    'precision_1': [report['1']['precision']],\n",
    "    'recall_1': [report['1']['recall']],\n",
    "    'f1_score_1': [report['1']['f1-score']]\n",
    "}\n",
    "\n",
    "# Convert metrics to DataFrame\n",
    "metrics_df = pd.DataFrame(metrics)\n",
    "\n",
    "# Append to CSV file (or create if it doesn't exist)\n",
    "output_file = \"CATBoost_metrics.csv\"\n",
    "try:\n",
    "    # Append if file exists\n",
    "    metrics_df.to_csv(output_file, mode='a', index=False, header=not pd.read_csv(output_file).empty)\n",
    "except FileNotFoundError:\n",
    "    # Create file if it doesn't exist\n",
    "    metrics_df.to_csv(output_file, index=False)\n",
    "\n",
    "print(f\"Metrics for {data_label} saved to {output_file}.\")"
   ]
  }
 ],
 "metadata": {
  "kernelspec": {
   "display_name": ".venv",
   "language": "python",
   "name": "python3"
  },
  "language_info": {
   "codemirror_mode": {
    "name": "ipython",
    "version": 3
   },
   "file_extension": ".py",
   "mimetype": "text/x-python",
   "name": "python",
   "nbconvert_exporter": "python",
   "pygments_lexer": "ipython3",
   "version": "3.9.10"
  }
 },
 "nbformat": 4,
 "nbformat_minor": 2
}
