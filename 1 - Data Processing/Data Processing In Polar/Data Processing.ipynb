{
 "cells": [
  {
   "cell_type": "markdown",
   "metadata": {},
   "source": [
    "## Data Processing in POLARS\n",
    "\n",
    "TIME: ~ 10s"
   ]
  },
  {
   "cell_type": "code",
   "execution_count": 1,
   "metadata": {},
   "outputs": [],
   "source": [
    "import polars as pl"
   ]
  },
  {
   "cell_type": "code",
   "execution_count": 2,
   "metadata": {},
   "outputs": [],
   "source": [
    "# Load the data using Polars\n",
    "users = pl.read_parquet(\"../../0 - Data/0 - original/users.pq\")\n",
    "cards = pl.read_parquet(\"../../0 - Data/0 - original/cards.pq\")\n",
    "transactions = pl.read_parquet(\"../../0 - Data/0 - original/transactions.pq\")"
   ]
  },
  {
   "cell_type": "code",
   "execution_count": 3,
   "metadata": {},
   "outputs": [
    {
     "name": "stdout",
     "output_type": "stream",
     "text": [
      "Common Columns (Can be used as Key): User\n"
     ]
    }
   ],
   "source": [
    "# Save the columns into sets in order to catch all unique columns\n",
    "users_columns = set(users.columns)\n",
    "cards_columns = set(cards.columns)\n",
    "transactions_columns = set(transactions.columns)\n",
    "\n",
    "# Filter out only the common columns\n",
    "common_columns = users_columns & cards_columns & transactions_columns\n",
    "common_columns = [user for user in common_columns]\n",
    "print(f\"Common Columns (Can be used as Key): {common_columns[0] or 'There are no common columns!'}\")"
   ]
  },
  {
   "cell_type": "code",
   "execution_count": 4,
   "metadata": {},
   "outputs": [],
   "source": [
    "# Merge Transactions and Cards data using the 'User' column in Transactions and 'User' column in Cards\n",
    "transactions_cards = transactions.join(cards, on=common_columns[0], how='inner')\n",
    "\n",
    "# Merge TransactionsCards and Users data using the 'User' column in TransactionCards and 'User' column in User\n",
    "full_transaction_table = transactions_cards.join(users, on=common_columns[0], how='inner')"
   ]
  },
  {
   "cell_type": "code",
   "execution_count": 5,
   "metadata": {},
   "outputs": [
    {
     "name": "stdout",
     "output_type": "stream",
     "text": [
      "Merged Table INFO\n",
      "|\n",
      "|- Number of Columns: 45\n",
      "|- Number of Rows: 13412376\n",
      "======================================================================\n",
      "|-- User, Card, Year\n",
      "|-- Month, Day, Time\n",
      "|-- Amount, Use Chip, Merchant Name\n",
      "|-- Merchant City, Merchant State, Zip\n",
      "|-- MCC, Errors?, Is Fraud?\n",
      "|-- CARD INDEX, Card Brand, Card Type\n",
      "|-- Card Number, Expires, CVV\n",
      "|-- Has Chip, Cards Issued, Credit Limit\n",
      "|-- Acct Open Date, Year PIN last Changed, Card on Dark Web\n",
      "|-- Person, Current Age, Retirement Age\n",
      "|-- Birth Year, Birth Month, Gender\n",
      "|-- Address, Apartment, City\n",
      "|-- State, Zipcode, Latitude\n",
      "|-- Longitude, Per Capita Income - Zipcode, Yearly Income - Person\n",
      "|-- Total Debt, FICO Score, Num Credit Cards\n",
      "======================================================================\n"
     ]
    }
   ],
   "source": [
    "# Print out all the columns from the Merged Transactions table\n",
    "columns = full_transaction_table.columns\n",
    "num_of_columns = len(columns)\n",
    "\n",
    "\n",
    "print(\"Merged Table INFO\")\n",
    "print(\"|\")\n",
    "print(f\"|- Number of Columns: {num_of_columns}\")\n",
    "print(f\"|- Number of Rows: {full_transaction_table.shape[0]}\")\n",
    "print(\"\".join([\"=\" for _ in range(70)]))\n",
    "# Iterate through the columns and print them\n",
    "for i in range(0, num_of_columns, 3):\n",
    "    column_group = columns[i:i + 3]\n",
    "    print(f\"|-- {', '.join(column_group)}\")\n",
    "print(\"\".join([\"=\" for _ in range(70)]))"
   ]
  },
  {
   "cell_type": "code",
   "execution_count": 8,
   "metadata": {},
   "outputs": [],
   "source": [
    "import os\n",
    "\n",
    "merge_dir = \"../../0 - Data/1 - merge\"\n",
    "if not os.path.exists(merge_dir):\n",
    "    os.makedirs(merge_dir)\n",
    "    \n",
    "full_transaction_table.write_parquet(\"../../0 - Data/1 - merge/merged_transactions.pq\")"
   ]
  }
 ],
 "metadata": {
  "kernelspec": {
   "display_name": ".venv",
   "language": "python",
   "name": "python3"
  },
  "language_info": {
   "codemirror_mode": {
    "name": "ipython",
    "version": 3
   },
   "file_extension": ".py",
   "mimetype": "text/x-python",
   "name": "python",
   "nbconvert_exporter": "python",
   "pygments_lexer": "ipython3",
   "version": "3.9.10"
  }
 },
 "nbformat": 4,
 "nbformat_minor": 2
}
