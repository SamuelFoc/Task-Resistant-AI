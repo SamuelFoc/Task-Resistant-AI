{
 "cells": [
  {
   "cell_type": "markdown",
   "metadata": {},
   "source": [
    "## Data Processing in PANDAS\n",
    "\n",
    "TIME: ~ 47s"
   ]
  },
  {
   "cell_type": "code",
   "execution_count": 2,
   "metadata": {},
   "outputs": [],
   "source": [
    "import pandas as pd"
   ]
  },
  {
   "cell_type": "code",
   "execution_count": 3,
   "metadata": {},
   "outputs": [],
   "source": [
    "# Load the data\n",
    "users = pd.read_parquet(\"../../0 - Data/0 - original/users.pq\", engine=\"pyarrow\")\n",
    "cards = pd.read_parquet(\"../../0 - Data/0 - original/cards.pq\", engine=\"pyarrow\")\n",
    "transactions = pd.read_parquet(\"../../0 - Data/0 - original/transactions.pq\", engine=\"pyarrow\")"
   ]
  },
  {
   "cell_type": "code",
   "execution_count": 3,
   "metadata": {},
   "outputs": [
    {
     "name": "stdout",
     "output_type": "stream",
     "text": [
      "Common Columns (Can be used as Key): User\n"
     ]
    }
   ],
   "source": [
    "# Save the columns into sets in order to catch all unique columns\n",
    "users_columns = set(users.columns)\n",
    "cards_columns = set(cards.columns)\n",
    "transactions_columns = set(transactions.columns)\n",
    "\n",
    "# Filter out only the common columns\n",
    "common_columns =users_columns & cards_columns & transactions_columns\n",
    "common_columns = [user for user in common_columns]\n",
    "print(f\"Common Columns (Can be used as Key): {common_columns[0] or 'There are no common columns!'}\")"
   ]
  },
  {
   "cell_type": "code",
   "execution_count": 4,
   "metadata": {},
   "outputs": [],
   "source": [
    "# Merge Transactions and Cards data using the 'User' column in Transactions and 'User' column in Cards\n",
    "transactions_cards = pd.merge(transactions, cards, left_on=common_columns[0], right_on='User', how='inner')\n",
    "\n",
    "# Merge TransactionsCards and Users data using the 'User' column in TransactionCards and 'User' column in User\n",
    "full_transaction_table = pd.merge(transactions_cards, users, left_on=common_columns[0], right_on='User', how='inner')"
   ]
  },
  {
   "cell_type": "code",
   "execution_count": 5,
   "metadata": {},
   "outputs": [
    {
     "name": "stdout",
     "output_type": "stream",
     "text": [
      "Merged Table INFO\n",
      "|\n",
      "|- Number of Columns: 45\n",
      "|- Number of Rows: 13412376\n",
      "======================================================================\n",
      "|-- User, Card, Year\n",
      "|-- Month, Day, Time\n",
      "|-- Amount, Use Chip, Merchant Name\n",
      "|-- Merchant City, Merchant State, Zip\n",
      "|-- MCC, Errors?, Is Fraud?\n",
      "|-- CARD INDEX, Card Brand, Card Type\n",
      "|-- Card Number, Expires, CVV\n",
      "|-- Has Chip, Cards Issued, Credit Limit\n",
      "|-- Acct Open Date, Year PIN last Changed, Card on Dark Web\n",
      "|-- Person, Current Age, Retirement Age\n",
      "|-- Birth Year, Birth Month, Gender\n",
      "|-- Address, Apartment, City\n",
      "|-- State, Zipcode, Latitude\n",
      "|-- Longitude, Per Capita Income - Zipcode, Yearly Income - Person\n",
      "|-- Total Debt, FICO Score, Num Credit Cards\n",
      "======================================================================\n"
     ]
    }
   ],
   "source": [
    "# Print out all the columns from the Merged Transactions table\n",
    "columns = full_transaction_table.columns\n",
    "num_of_columns = len(columns)\n",
    "\n",
    "print(\"Merged Table INFO\")\n",
    "print(\"|\")\n",
    "print(f\"|- Number of Columns: {num_of_columns}\")\n",
    "print(f\"|- Number of Rows: {len(full_transaction_table)}\")\n",
    "print(\"\".join([\"=\" for i in range(70)]))\n",
    "\n",
    "# Iterate through the columns and print them in groups of three\n",
    "for i in range(0, num_of_columns, 3):\n",
    "    # Slice the columns to avoid IndexError\n",
    "    column_group = columns[i:i + 3]\n",
    "    # Join the column names with a comma\n",
    "    print(f\"|-- {', '.join(column_group)}\")\n",
    "print(\"\".join([\"=\" for i in range(70)]))"
   ]
  },
  {
   "cell_type": "code",
   "execution_count": 7,
   "metadata": {},
   "outputs": [],
   "source": [
    "import os\n",
    "\n",
    "# Save the Merged Table into a data storage\n",
    "merge_dir = \"../../0 - Data/1 - merge\"\n",
    "if not os.path.exists(merge_dir):\n",
    "    os.makedirs(merge_dir)\n",
    "\n",
    "full_transaction_table.to_parquet(\"../../0 - Data/1 - merge/merged_transactions.pq\")"
   ]
  }
 ],
 "metadata": {
  "kernelspec": {
   "display_name": ".datascience",
   "language": "python",
   "name": "python3"
  },
  "language_info": {
   "codemirror_mode": {
    "name": "ipython",
    "version": 3
   },
   "file_extension": ".py",
   "mimetype": "text/x-python",
   "name": "python",
   "nbconvert_exporter": "python",
   "pygments_lexer": "ipython3",
   "version": "3.12.3"
  }
 },
 "nbformat": 4,
 "nbformat_minor": 2
}
