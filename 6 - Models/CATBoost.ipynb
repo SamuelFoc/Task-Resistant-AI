{
 "cells": [
  {
   "cell_type": "markdown",
   "metadata": {},
   "source": [
    "## Creating a Model"
   ]
  },
  {
   "cell_type": "code",
   "execution_count": 1,
   "metadata": {},
   "outputs": [
    {
     "data": {
      "text/html": [
       "<div>\n",
       "<style scoped>\n",
       "    .dataframe tbody tr th:only-of-type {\n",
       "        vertical-align: middle;\n",
       "    }\n",
       "\n",
       "    .dataframe tbody tr th {\n",
       "        vertical-align: top;\n",
       "    }\n",
       "\n",
       "    .dataframe thead th {\n",
       "        text-align: right;\n",
       "    }\n",
       "</style>\n",
       "<table border=\"1\" class=\"dataframe\">\n",
       "  <thead>\n",
       "    <tr style=\"text-align: right;\">\n",
       "      <th></th>\n",
       "      <th>Amount</th>\n",
       "      <th>MCC</th>\n",
       "      <th>Has Chip</th>\n",
       "      <th>Cards Issued</th>\n",
       "      <th>Credit Limit</th>\n",
       "      <th>Year PIN last Changed</th>\n",
       "      <th>Current Age</th>\n",
       "      <th>Retirement Age</th>\n",
       "      <th>Birth Year</th>\n",
       "      <th>Birth Month</th>\n",
       "      <th>...</th>\n",
       "      <th>Card Brand_Visa</th>\n",
       "      <th>Card Type_Debit</th>\n",
       "      <th>Card Type_Debit (Prepaid)</th>\n",
       "      <th>Gender_Male</th>\n",
       "      <th>Age Group_26-35</th>\n",
       "      <th>Age Group_36-45</th>\n",
       "      <th>Age Group_46-60</th>\n",
       "      <th>Age Group_60+</th>\n",
       "      <th>Use Chip_Online Transaction</th>\n",
       "      <th>Use Chip_Swipe Transaction</th>\n",
       "    </tr>\n",
       "  </thead>\n",
       "  <tbody>\n",
       "    <tr>\n",
       "      <th>0</th>\n",
       "      <td>130.95</td>\n",
       "      <td>5912</td>\n",
       "      <td>1</td>\n",
       "      <td>2</td>\n",
       "      <td>24295.0</td>\n",
       "      <td>2008</td>\n",
       "      <td>53</td>\n",
       "      <td>66</td>\n",
       "      <td>1966</td>\n",
       "      <td>11</td>\n",
       "      <td>...</td>\n",
       "      <td>True</td>\n",
       "      <td>True</td>\n",
       "      <td>False</td>\n",
       "      <td>False</td>\n",
       "      <td>False</td>\n",
       "      <td>False</td>\n",
       "      <td>True</td>\n",
       "      <td>False</td>\n",
       "      <td>False</td>\n",
       "      <td>False</td>\n",
       "    </tr>\n",
       "    <tr>\n",
       "      <th>1</th>\n",
       "      <td>130.95</td>\n",
       "      <td>5912</td>\n",
       "      <td>1</td>\n",
       "      <td>2</td>\n",
       "      <td>21968.0</td>\n",
       "      <td>2014</td>\n",
       "      <td>53</td>\n",
       "      <td>66</td>\n",
       "      <td>1966</td>\n",
       "      <td>11</td>\n",
       "      <td>...</td>\n",
       "      <td>True</td>\n",
       "      <td>True</td>\n",
       "      <td>False</td>\n",
       "      <td>False</td>\n",
       "      <td>False</td>\n",
       "      <td>False</td>\n",
       "      <td>True</td>\n",
       "      <td>False</td>\n",
       "      <td>False</td>\n",
       "      <td>False</td>\n",
       "    </tr>\n",
       "    <tr>\n",
       "      <th>2</th>\n",
       "      <td>130.95</td>\n",
       "      <td>5912</td>\n",
       "      <td>1</td>\n",
       "      <td>2</td>\n",
       "      <td>46414.0</td>\n",
       "      <td>2004</td>\n",
       "      <td>53</td>\n",
       "      <td>66</td>\n",
       "      <td>1966</td>\n",
       "      <td>11</td>\n",
       "      <td>...</td>\n",
       "      <td>True</td>\n",
       "      <td>True</td>\n",
       "      <td>False</td>\n",
       "      <td>False</td>\n",
       "      <td>False</td>\n",
       "      <td>False</td>\n",
       "      <td>True</td>\n",
       "      <td>False</td>\n",
       "      <td>False</td>\n",
       "      <td>False</td>\n",
       "    </tr>\n",
       "    <tr>\n",
       "      <th>3</th>\n",
       "      <td>130.95</td>\n",
       "      <td>5912</td>\n",
       "      <td>0</td>\n",
       "      <td>1</td>\n",
       "      <td>12400.0</td>\n",
       "      <td>2012</td>\n",
       "      <td>53</td>\n",
       "      <td>66</td>\n",
       "      <td>1966</td>\n",
       "      <td>11</td>\n",
       "      <td>...</td>\n",
       "      <td>True</td>\n",
       "      <td>False</td>\n",
       "      <td>False</td>\n",
       "      <td>False</td>\n",
       "      <td>False</td>\n",
       "      <td>False</td>\n",
       "      <td>True</td>\n",
       "      <td>False</td>\n",
       "      <td>False</td>\n",
       "      <td>False</td>\n",
       "    </tr>\n",
       "    <tr>\n",
       "      <th>4</th>\n",
       "      <td>130.95</td>\n",
       "      <td>5912</td>\n",
       "      <td>1</td>\n",
       "      <td>1</td>\n",
       "      <td>28.0</td>\n",
       "      <td>2009</td>\n",
       "      <td>53</td>\n",
       "      <td>66</td>\n",
       "      <td>1966</td>\n",
       "      <td>11</td>\n",
       "      <td>...</td>\n",
       "      <td>False</td>\n",
       "      <td>False</td>\n",
       "      <td>True</td>\n",
       "      <td>False</td>\n",
       "      <td>False</td>\n",
       "      <td>False</td>\n",
       "      <td>True</td>\n",
       "      <td>False</td>\n",
       "      <td>False</td>\n",
       "      <td>False</td>\n",
       "    </tr>\n",
       "  </tbody>\n",
       "</table>\n",
       "<p>5 rows × 40 columns</p>\n",
       "</div>"
      ],
      "text/plain": [
       "   Amount   MCC  Has Chip  Cards Issued  Credit Limit  Year PIN last Changed  \\\n",
       "0  130.95  5912         1             2       24295.0                   2008   \n",
       "1  130.95  5912         1             2       21968.0                   2014   \n",
       "2  130.95  5912         1             2       46414.0                   2004   \n",
       "3  130.95  5912         0             1       12400.0                   2012   \n",
       "4  130.95  5912         1             1          28.0                   2009   \n",
       "\n",
       "   Current Age  Retirement Age  Birth Year  Birth Month  ...  Card Brand_Visa  \\\n",
       "0           53              66        1966           11  ...             True   \n",
       "1           53              66        1966           11  ...             True   \n",
       "2           53              66        1966           11  ...             True   \n",
       "3           53              66        1966           11  ...             True   \n",
       "4           53              66        1966           11  ...            False   \n",
       "\n",
       "   Card Type_Debit  Card Type_Debit (Prepaid)  Gender_Male  Age Group_26-35  \\\n",
       "0             True                      False        False            False   \n",
       "1             True                      False        False            False   \n",
       "2             True                      False        False            False   \n",
       "3            False                      False        False            False   \n",
       "4            False                       True        False            False   \n",
       "\n",
       "   Age Group_36-45  Age Group_46-60 Age Group_60+  \\\n",
       "0            False             True         False   \n",
       "1            False             True         False   \n",
       "2            False             True         False   \n",
       "3            False             True         False   \n",
       "4            False             True         False   \n",
       "\n",
       "   Use Chip_Online Transaction  Use Chip_Swipe Transaction  \n",
       "0                        False                       False  \n",
       "1                        False                       False  \n",
       "2                        False                       False  \n",
       "3                        False                       False  \n",
       "4                        False                       False  \n",
       "\n",
       "[5 rows x 40 columns]"
      ]
     },
     "execution_count": 1,
     "metadata": {},
     "output_type": "execute_result"
    }
   ],
   "source": [
    "import pandas as pd\n",
    "\n",
    "df = pd.read_parquet(\"../0 - Data/scaled_transactions.pq\")\n",
    "df.head()"
   ]
  },
  {
   "cell_type": "markdown",
   "metadata": {},
   "source": [
    "#### Split the data into training and test"
   ]
  },
  {
   "cell_type": "code",
   "execution_count": 2,
   "metadata": {},
   "outputs": [],
   "source": [
    "df['Datetime'] = pd.to_datetime(df['Datetime'])\n",
    "\n",
    "split_date = '2019-10-01 00:00:00'\n",
    "\n",
    "train_data = df[df['Datetime'] < split_date]\n",
    "test_data = df[df['Datetime'] >= split_date]"
   ]
  },
  {
   "cell_type": "markdown",
   "metadata": {},
   "source": [
    "#### Drop the Datetime Column"
   ]
  },
  {
   "cell_type": "code",
   "execution_count": 3,
   "metadata": {},
   "outputs": [],
   "source": [
    "train_data = train_data.drop([\"Datetime\"], axis=1)\n",
    "test_data = test_data.drop([\"Datetime\"], axis=1)"
   ]
  },
  {
   "cell_type": "markdown",
   "metadata": {},
   "source": [
    "#### Create X and y Vectors"
   ]
  },
  {
   "cell_type": "code",
   "execution_count": 4,
   "metadata": {},
   "outputs": [],
   "source": [
    "target_column = 'Is Fraud'\n",
    "\n",
    "# Separate features and target for the training set\n",
    "X_train = train_data.drop(target_column, axis=1)\n",
    "y_train = train_data[target_column]\n",
    "\n",
    "# Separate features and target for the test set\n",
    "X_test = test_data.drop(target_column, axis=1)\n",
    "y_test = test_data[target_column]"
   ]
  },
  {
   "cell_type": "markdown",
   "metadata": {},
   "source": [
    "#### Train the Model"
   ]
  },
  {
   "cell_type": "code",
   "execution_count": 5,
   "metadata": {},
   "outputs": [
    {
     "data": {
      "text/plain": [
       "<catboost.core.CatBoostClassifier at 0x1b0cbfb3170>"
      ]
     },
     "execution_count": 5,
     "metadata": {},
     "output_type": "execute_result"
    }
   ],
   "source": [
    "from catboost import CatBoostClassifier\n",
    "\n",
    "# Initialize the CatBoost model\n",
    "model = CatBoostClassifier(\n",
    "    iterations=100,\n",
    "    depth=6,\n",
    "    learning_rate=0.1,\n",
    "    task_type='GPU',  # Use GPU\n",
    "    random_seed=42,\n",
    "    verbose=0 \n",
    ")\n",
    "\n",
    "# Train the model\n",
    "model.fit(X_train, y_train)"
   ]
  },
  {
   "cell_type": "markdown",
   "metadata": {},
   "source": [
    "#### Model Predictions"
   ]
  },
  {
   "cell_type": "code",
   "execution_count": 7,
   "metadata": {},
   "outputs": [],
   "source": [
    "# Make probability predictions\n",
    "y_pred_proba = model.predict(X_test)\n",
    "\n",
    "# Convert probabilities to binary predictions (0 or 1) based on a threshold, usually 0.5\n",
    "y_pred = [1 if prob > 0.5 else 0 for prob in y_pred_proba]"
   ]
  },
  {
   "cell_type": "markdown",
   "metadata": {},
   "source": [
    "#### Test the Predictions"
   ]
  },
  {
   "cell_type": "code",
   "execution_count": 8,
   "metadata": {},
   "outputs": [
    {
     "name": "stdout",
     "output_type": "stream",
     "text": [
      "Accuracy: 0.9995790535552388\n"
     ]
    }
   ],
   "source": [
    "from sklearn.metrics import accuracy_score\n",
    "\n",
    "# Calculate accuracy\n",
    "accuracy = accuracy_score(y_test, y_pred)\n",
    "print(f\"Accuracy: {accuracy}\")"
   ]
  },
  {
   "cell_type": "code",
   "execution_count": 9,
   "metadata": {},
   "outputs": [
    {
     "name": "stdout",
     "output_type": "stream",
     "text": [
      "Classification Report:\n",
      "               precision    recall  f1-score   support\n",
      "\n",
      "           0       1.00      1.00      1.00   2671415\n",
      "           1       0.76      0.01      0.02      1134\n",
      "\n",
      "    accuracy                           1.00   2672549\n",
      "   macro avg       0.88      0.51      0.51   2672549\n",
      "weighted avg       1.00      1.00      1.00   2672549\n",
      "\n"
     ]
    }
   ],
   "source": [
    "from sklearn.metrics import classification_report\n",
    "\n",
    "# Print classification report\n",
    "print(\"Classification Report:\\n\", classification_report(y_test, y_pred))"
   ]
  },
  {
   "cell_type": "code",
   "execution_count": 10,
   "metadata": {},
   "outputs": [
    {
     "name": "stdout",
     "output_type": "stream",
     "text": [
      "ROC-AUC Score: 0.5057311737316841\n"
     ]
    }
   ],
   "source": [
    "from sklearn.metrics import roc_auc_score\n",
    "\n",
    "# Calculate the ROC-AUC score using the probability predictions\n",
    "roc_auc = roc_auc_score(y_test, y_pred_proba)\n",
    "print(f\"ROC-AUC Score: {roc_auc}\")"
   ]
  },
  {
   "cell_type": "code",
   "execution_count": 11,
   "metadata": {},
   "outputs": [
    {
     "data": {
      "image/png": "[encoded data removed]",
      "text/plain": [
       "<Figure size 800x600 with 1 Axes>"
      ]
     },
     "metadata": {},
     "output_type": "display_data"
    }
   ],
   "source": [
    "import matplotlib.pyplot as plt\n",
    "import seaborn as sns\n",
    "from sklearn.metrics import confusion_matrix\n",
    "\n",
    "# Calculate confusion matrix\n",
    "cm = confusion_matrix(y_test, y_pred)\n",
    "\n",
    "# Create a DataFrame for better visualization\n",
    "cm_df = pd.DataFrame(cm, index=['Actual Fraud', 'Actual No Fraud'], columns=['Predicted Fraud', 'Predicted No Fraud'])\n",
    "\n",
    "# Plotting the confusion matrix\n",
    "plt.figure(figsize=(8, 6))\n",
    "sns.heatmap(cm_df, annot=True, fmt='d', cbar=False)\n",
    "plt.title('Confusion Matrix')\n",
    "plt.xlabel('Predicted Label')\n",
    "plt.ylabel('True Label')\n",
    "plt.show()"
   ]
  },
  {
   "cell_type": "markdown",
   "metadata": {},
   "source": [
    "#### Evaluation\n",
    "\n"
   ]
  }
 ],
 "metadata": {
  "kernelspec": {
   "display_name": ".venv",
   "language": "python",
   "name": "python3"
  },
  "language_info": {
   "codemirror_mode": {
    "name": "ipython",
    "version": 3
   },
   "file_extension": ".py",
   "mimetype": "text/x-python",
   "name": "python",
   "nbconvert_exporter": "python",
   "pygments_lexer": "ipython3",
   "version": "3.12.4"
  }
 },
 "nbformat": 4,
 "nbformat_minor": 2
}
