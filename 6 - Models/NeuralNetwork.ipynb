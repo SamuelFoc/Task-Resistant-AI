{
 "cells": [
  {
   "cell_type": "markdown",
   "metadata": {},
   "source": [
    "## Creating a Model"
   ]
  },
  {
   "cell_type": "code",
   "execution_count": 2,
   "metadata": {},
   "outputs": [
    {
     "data": {
      "text/html": [
       "<div>\n",
       "<style scoped>\n",
       "    .dataframe tbody tr th:only-of-type {\n",
       "        vertical-align: middle;\n",
       "    }\n",
       "\n",
       "    .dataframe tbody tr th {\n",
       "        vertical-align: top;\n",
       "    }\n",
       "\n",
       "    .dataframe thead th {\n",
       "        text-align: right;\n",
       "    }\n",
       "</style>\n",
       "<table border=\"1\" class=\"dataframe\">\n",
       "  <thead>\n",
       "    <tr style=\"text-align: right;\">\n",
       "      <th></th>\n",
       "      <th>Amount</th>\n",
       "      <th>MCC</th>\n",
       "      <th>Has Chip</th>\n",
       "      <th>Cards Issued</th>\n",
       "      <th>Credit Limit</th>\n",
       "      <th>Year PIN last Changed</th>\n",
       "      <th>Current Age</th>\n",
       "      <th>Retirement Age</th>\n",
       "      <th>Birth Year</th>\n",
       "      <th>Birth Month</th>\n",
       "      <th>...</th>\n",
       "      <th>Card Brand_Visa</th>\n",
       "      <th>Card Type_Debit</th>\n",
       "      <th>Card Type_Debit (Prepaid)</th>\n",
       "      <th>Gender_Male</th>\n",
       "      <th>Age Group_26-35</th>\n",
       "      <th>Age Group_36-45</th>\n",
       "      <th>Age Group_46-60</th>\n",
       "      <th>Age Group_60+</th>\n",
       "      <th>Use Chip_Online Transaction</th>\n",
       "      <th>Use Chip_Swipe Transaction</th>\n",
       "    </tr>\n",
       "  </thead>\n",
       "  <tbody>\n",
       "    <tr>\n",
       "      <th>0</th>\n",
       "      <td>130.95</td>\n",
       "      <td>5912</td>\n",
       "      <td>1</td>\n",
       "      <td>2</td>\n",
       "      <td>24295.0</td>\n",
       "      <td>2008</td>\n",
       "      <td>53</td>\n",
       "      <td>66</td>\n",
       "      <td>1966</td>\n",
       "      <td>11</td>\n",
       "      <td>...</td>\n",
       "      <td>True</td>\n",
       "      <td>True</td>\n",
       "      <td>False</td>\n",
       "      <td>False</td>\n",
       "      <td>False</td>\n",
       "      <td>False</td>\n",
       "      <td>True</td>\n",
       "      <td>False</td>\n",
       "      <td>False</td>\n",
       "      <td>False</td>\n",
       "    </tr>\n",
       "    <tr>\n",
       "      <th>1</th>\n",
       "      <td>130.95</td>\n",
       "      <td>5912</td>\n",
       "      <td>1</td>\n",
       "      <td>2</td>\n",
       "      <td>21968.0</td>\n",
       "      <td>2014</td>\n",
       "      <td>53</td>\n",
       "      <td>66</td>\n",
       "      <td>1966</td>\n",
       "      <td>11</td>\n",
       "      <td>...</td>\n",
       "      <td>True</td>\n",
       "      <td>True</td>\n",
       "      <td>False</td>\n",
       "      <td>False</td>\n",
       "      <td>False</td>\n",
       "      <td>False</td>\n",
       "      <td>True</td>\n",
       "      <td>False</td>\n",
       "      <td>False</td>\n",
       "      <td>False</td>\n",
       "    </tr>\n",
       "    <tr>\n",
       "      <th>2</th>\n",
       "      <td>130.95</td>\n",
       "      <td>5912</td>\n",
       "      <td>1</td>\n",
       "      <td>2</td>\n",
       "      <td>46414.0</td>\n",
       "      <td>2004</td>\n",
       "      <td>53</td>\n",
       "      <td>66</td>\n",
       "      <td>1966</td>\n",
       "      <td>11</td>\n",
       "      <td>...</td>\n",
       "      <td>True</td>\n",
       "      <td>True</td>\n",
       "      <td>False</td>\n",
       "      <td>False</td>\n",
       "      <td>False</td>\n",
       "      <td>False</td>\n",
       "      <td>True</td>\n",
       "      <td>False</td>\n",
       "      <td>False</td>\n",
       "      <td>False</td>\n",
       "    </tr>\n",
       "    <tr>\n",
       "      <th>3</th>\n",
       "      <td>130.95</td>\n",
       "      <td>5912</td>\n",
       "      <td>0</td>\n",
       "      <td>1</td>\n",
       "      <td>12400.0</td>\n",
       "      <td>2012</td>\n",
       "      <td>53</td>\n",
       "      <td>66</td>\n",
       "      <td>1966</td>\n",
       "      <td>11</td>\n",
       "      <td>...</td>\n",
       "      <td>True</td>\n",
       "      <td>False</td>\n",
       "      <td>False</td>\n",
       "      <td>False</td>\n",
       "      <td>False</td>\n",
       "      <td>False</td>\n",
       "      <td>True</td>\n",
       "      <td>False</td>\n",
       "      <td>False</td>\n",
       "      <td>False</td>\n",
       "    </tr>\n",
       "    <tr>\n",
       "      <th>4</th>\n",
       "      <td>130.95</td>\n",
       "      <td>5912</td>\n",
       "      <td>1</td>\n",
       "      <td>1</td>\n",
       "      <td>28.0</td>\n",
       "      <td>2009</td>\n",
       "      <td>53</td>\n",
       "      <td>66</td>\n",
       "      <td>1966</td>\n",
       "      <td>11</td>\n",
       "      <td>...</td>\n",
       "      <td>False</td>\n",
       "      <td>False</td>\n",
       "      <td>True</td>\n",
       "      <td>False</td>\n",
       "      <td>False</td>\n",
       "      <td>False</td>\n",
       "      <td>True</td>\n",
       "      <td>False</td>\n",
       "      <td>False</td>\n",
       "      <td>False</td>\n",
       "    </tr>\n",
       "  </tbody>\n",
       "</table>\n",
       "<p>5 rows × 40 columns</p>\n",
       "</div>"
      ],
      "text/plain": [
       "   Amount   MCC  Has Chip  Cards Issued  Credit Limit  Year PIN last Changed  \\\n",
       "0  130.95  5912         1             2       24295.0                   2008   \n",
       "1  130.95  5912         1             2       21968.0                   2014   \n",
       "2  130.95  5912         1             2       46414.0                   2004   \n",
       "3  130.95  5912         0             1       12400.0                   2012   \n",
       "4  130.95  5912         1             1          28.0                   2009   \n",
       "\n",
       "   Current Age  Retirement Age  Birth Year  Birth Month  ...  Card Brand_Visa  \\\n",
       "0           53              66        1966           11  ...             True   \n",
       "1           53              66        1966           11  ...             True   \n",
       "2           53              66        1966           11  ...             True   \n",
       "3           53              66        1966           11  ...             True   \n",
       "4           53              66        1966           11  ...            False   \n",
       "\n",
       "   Card Type_Debit  Card Type_Debit (Prepaid)  Gender_Male  Age Group_26-35  \\\n",
       "0             True                      False        False            False   \n",
       "1             True                      False        False            False   \n",
       "2             True                      False        False            False   \n",
       "3            False                      False        False            False   \n",
       "4            False                       True        False            False   \n",
       "\n",
       "   Age Group_36-45  Age Group_46-60 Age Group_60+  \\\n",
       "0            False             True         False   \n",
       "1            False             True         False   \n",
       "2            False             True         False   \n",
       "3            False             True         False   \n",
       "4            False             True         False   \n",
       "\n",
       "   Use Chip_Online Transaction  Use Chip_Swipe Transaction  \n",
       "0                        False                       False  \n",
       "1                        False                       False  \n",
       "2                        False                       False  \n",
       "3                        False                       False  \n",
       "4                        False                       False  \n",
       "\n",
       "[5 rows x 40 columns]"
      ]
     },
     "execution_count": 2,
     "metadata": {},
     "output_type": "execute_result"
    }
   ],
   "source": [
    "import pandas as pd\n",
    "\n",
    "df = pd.read_parquet(\"../0 - Data/scaled_transactions.pq\")\n",
    "df.head()"
   ]
  },
  {
   "cell_type": "markdown",
   "metadata": {},
   "source": [
    "#### Split the data into training and test"
   ]
  },
  {
   "cell_type": "code",
   "execution_count": 3,
   "metadata": {},
   "outputs": [],
   "source": [
    "df['Datetime'] = pd.to_datetime(df['Datetime'])\n",
    "\n",
    "split_date = '2019-10-01 00:00:00'\n",
    "\n",
    "train_data = df[df['Datetime'] < split_date]\n",
    "test_data = df[df['Datetime'] >= split_date]"
   ]
  },
  {
   "cell_type": "markdown",
   "metadata": {},
   "source": [
    "#### Drop the Datetime Column"
   ]
  },
  {
   "cell_type": "code",
   "execution_count": 4,
   "metadata": {},
   "outputs": [],
   "source": [
    "train_data = train_data.drop([\"Datetime\"], axis=1)\n",
    "test_data = test_data.drop([\"Datetime\"], axis=1)"
   ]
  },
  {
   "cell_type": "markdown",
   "metadata": {},
   "source": [
    "#### Create X and y Vectors"
   ]
  },
  {
   "cell_type": "code",
   "execution_count": 5,
   "metadata": {},
   "outputs": [],
   "source": [
    "target_column = 'Is Fraud'\n",
    "\n",
    "# Separate features and target for the training set\n",
    "X_train = train_data.drop(target_column, axis=1)\n",
    "y_train = train_data[target_column]\n",
    "\n",
    "# Separate features and target for the test set\n",
    "X_test = test_data.drop(target_column, axis=1)\n",
    "y_test = test_data[target_column]"
   ]
  },
  {
   "cell_type": "markdown",
   "metadata": {},
   "source": [
    "#### Train the Model"
   ]
  },
  {
   "cell_type": "code",
   "execution_count": 8,
   "metadata": {},
   "outputs": [
    {
     "name": "stdout",
     "output_type": "stream",
     "text": [
      "CUDA is available. Using GPU: Quadro T2000\n"
     ]
    }
   ],
   "source": [
    "import torch\n",
    "\n",
    "# Check if CUDA is available\n",
    "if torch.cuda.is_available():\n",
    "    print(f\"CUDA is available. Using GPU: {torch.cuda.get_device_name(0)}\")\n",
    "else:\n",
    "    print(\"CUDA is not available. Using CPU.\")"
   ]
  },
  {
   "cell_type": "code",
   "execution_count": 20,
   "metadata": {},
   "outputs": [
    {
     "name": "stdout",
     "output_type": "stream",
     "text": [
      "Epoch [1/10], Loss: 0.5089\n",
      "Epoch [2/10], Loss: 0.3531\n",
      "Epoch [3/10], Loss: 0.1698\n",
      "Epoch [4/10], Loss: 0.1609\n",
      "Epoch [5/10], Loss: 0.1612\n",
      "Epoch [6/10], Loss: 0.1613\n",
      "Epoch [7/10], Loss: 0.1615\n",
      "Epoch [8/10], Loss: 0.1616\n",
      "Epoch [9/10], Loss: 0.1617\n",
      "Epoch [10/10], Loss: 0.1617\n"
     ]
    }
   ],
   "source": [
    "import pandas as pd\n",
    "import torch\n",
    "import torch.nn as nn\n",
    "import torch.optim as optim\n",
    "\n",
    "# Assuming X_train is your DataFrame and y_train is your target variable\n",
    "\n",
    "# Convert boolean columns to integers (0 for False, 1 for True)\n",
    "bool_cols = X_train.select_dtypes(include=['bool']).columns\n",
    "X_train[bool_cols] = X_train[bool_cols].astype(int)\n",
    "\n",
    "# Convert all columns to numeric, coercing errors to NaN\n",
    "X_train = X_train.apply(pd.to_numeric, errors='coerce')\n",
    "\n",
    "# Handle NaN values (you can choose a different method based on your needs)\n",
    "X_train.fillna(0, inplace=True)\n",
    "\n",
    "# Convert your data to PyTorch tensors and move them to GPU if available\n",
    "device = torch.device(\"cuda\" if torch.cuda.is_available() else \"cpu\")\n",
    "X_train_tensor = torch.tensor(X_train.values, dtype=torch.float32).to(device)\n",
    "y_train_tensor = torch.tensor(y_train.values, dtype=torch.float32).unsqueeze(1).to(device)  # Reshape for binary classification\n",
    "\n",
    "# Define the neural network model\n",
    "class SimpleNN(nn.Module):\n",
    "    def __init__(self):\n",
    "        super(SimpleNN, self).__init__()\n",
    "        self.fc1 = nn.Linear(X_train.shape[1], 64)\n",
    "        self.fc2 = nn.Linear(64, 16)\n",
    "        self.fc3 = nn.Linear(16, 1)  # Output layer for binary classification\n",
    "\n",
    "    def forward(self, x):\n",
    "        x = torch.relu(self.fc1(x))\n",
    "        x = torch.relu(self.fc2(x))\n",
    "        return torch.sigmoid(self.fc3(x))\n",
    "\n",
    "# Initialize the model, loss function, and optimizer\n",
    "model = SimpleNN().to(device)  # Move model to GPU\n",
    "criterion = nn.BCELoss()  # Binary Cross Entropy Loss\n",
    "optimizer = optim.Adam(model.parameters())  # Adam optimizer\n",
    "\n",
    "# Train the model\n",
    "num_epochs = 4\n",
    "for epoch in range(num_epochs):\n",
    "    model.train()  # Set the model to training mode\n",
    "    optimizer.zero_grad()  # Clear gradients\n",
    "    outputs = model(X_train_tensor)  # Forward pass\n",
    "    loss = criterion(outputs, y_train_tensor)  # Calculate loss\n",
    "    loss.backward()  # Backward pass\n",
    "    optimizer.step()  # Update weights\n",
    "\n",
    "    if (epoch + 1) % 1 == 0:  # Print loss every epoch\n",
    "        print(f'Epoch [{epoch + 1}/{num_epochs}], Loss: {loss.item():.4f}')\n"
   ]
  },
  {
   "cell_type": "markdown",
   "metadata": {},
   "source": [
    "#### Model Predictions"
   ]
  },
  {
   "cell_type": "code",
   "execution_count": 21,
   "metadata": {},
   "outputs": [],
   "source": [
    "# Convert boolean columns to integers in X_test\n",
    "bool_cols_test = X_test.select_dtypes(include=['bool']).columns\n",
    "X_test[bool_cols_test] = X_test[bool_cols_test].astype(int)\n",
    "\n",
    "# Convert all columns to numeric, coercing errors to NaN\n",
    "X_test = X_test.apply(pd.to_numeric, errors='coerce').fillna(0)\n",
    "\n",
    "# Move X_test to the same device as the model\n",
    "X_test_tensor = torch.tensor(X_test.values, dtype=torch.float32).to(device)\n",
    "\n",
    "# Make predictions\n",
    "model.eval()  # Set the model to evaluation mode\n",
    "with torch.no_grad():  # Disable gradient calculation\n",
    "    y_pred_proba = model(X_test_tensor)  # Forward pass\n",
    "    y_pred = (y_pred_proba > 0.5).int().cpu().numpy()  # Convert probabilities to binary predictions"
   ]
  },
  {
   "cell_type": "markdown",
   "metadata": {},
   "source": [
    "#### Test the Predictions"
   ]
  },
  {
   "cell_type": "code",
   "execution_count": 22,
   "metadata": {},
   "outputs": [
    {
     "name": "stdout",
     "output_type": "stream",
     "text": [
      "Accuracy: 0.9995756859836807\n"
     ]
    }
   ],
   "source": [
    "from sklearn.metrics import accuracy_score\n",
    "\n",
    "# Calculate accuracy\n",
    "accuracy = accuracy_score(y_test, y_pred)\n",
    "print(f\"Accuracy: {accuracy}\")"
   ]
  },
  {
   "cell_type": "code",
   "execution_count": 23,
   "metadata": {},
   "outputs": [
    {
     "name": "stderr",
     "output_type": "stream",
     "text": [
      "c:\\Users\\samos\\PythonEnvironments\\.datascience\\Lib\\site-packages\\sklearn\\metrics\\_classification.py:1531: UndefinedMetricWarning: Precision is ill-defined and being set to 0.0 in labels with no predicted samples. Use `zero_division` parameter to control this behavior.\n",
      "  _warn_prf(average, modifier, f\"{metric.capitalize()} is\", len(result))\n",
      "c:\\Users\\samos\\PythonEnvironments\\.datascience\\Lib\\site-packages\\sklearn\\metrics\\_classification.py:1531: UndefinedMetricWarning: Precision is ill-defined and being set to 0.0 in labels with no predicted samples. Use `zero_division` parameter to control this behavior.\n",
      "  _warn_prf(average, modifier, f\"{metric.capitalize()} is\", len(result))\n"
     ]
    },
    {
     "name": "stdout",
     "output_type": "stream",
     "text": [
      "Classification Report:\n",
      "               precision    recall  f1-score   support\n",
      "\n",
      "           0       1.00      1.00      1.00   2671415\n",
      "           1       0.00      0.00      0.00      1134\n",
      "\n",
      "    accuracy                           1.00   2672549\n",
      "   macro avg       0.50      0.50      0.50   2672549\n",
      "weighted avg       1.00      1.00      1.00   2672549\n",
      "\n"
     ]
    },
    {
     "name": "stderr",
     "output_type": "stream",
     "text": [
      "c:\\Users\\samos\\PythonEnvironments\\.datascience\\Lib\\site-packages\\sklearn\\metrics\\_classification.py:1531: UndefinedMetricWarning: Precision is ill-defined and being set to 0.0 in labels with no predicted samples. Use `zero_division` parameter to control this behavior.\n",
      "  _warn_prf(average, modifier, f\"{metric.capitalize()} is\", len(result))\n"
     ]
    }
   ],
   "source": [
    "from sklearn.metrics import classification_report\n",
    "\n",
    "# Print classification report\n",
    "print(\"Classification Report:\\n\", classification_report(y_test, y_pred))"
   ]
  },
  {
   "cell_type": "code",
   "execution_count": 24,
   "metadata": {},
   "outputs": [
    {
     "name": "stdout",
     "output_type": "stream",
     "text": [
      "ROC-AUC Score: 0.49999775399928503\n"
     ]
    }
   ],
   "source": [
    "from sklearn.metrics import roc_auc_score\n",
    "\n",
    "# Make predictions\n",
    "model.eval()  # Set the model to evaluation mode\n",
    "with torch.no_grad():  # Disable gradient calculation\n",
    "    y_pred_proba = model(X_test_tensor)  # Forward pass\n",
    "    y_pred_proba = y_pred_proba.cpu().numpy()  # Move predictions to CPU and convert to NumPy\n",
    "\n",
    "# Calculate the ROC-AUC score using the probability predictions\n",
    "roc_auc = roc_auc_score(y_test, y_pred_proba)\n",
    "print(f\"ROC-AUC Score: {roc_auc}\")"
   ]
  },
  {
   "cell_type": "code",
   "execution_count": 25,
   "metadata": {},
   "outputs": [
    {
     "data": {
      "image/png": "[encoded data removed]",
      "text/plain": [
       "<Figure size 800x600 with 1 Axes>"
      ]
     },
     "metadata": {},
     "output_type": "display_data"
    }
   ],
   "source": [
    "import matplotlib.pyplot as plt\n",
    "import seaborn as sns\n",
    "from sklearn.metrics import confusion_matrix\n",
    "\n",
    "# Calculate confusion matrix\n",
    "cm = confusion_matrix(y_test, y_pred)\n",
    "\n",
    "# Create a DataFrame for better visualization\n",
    "cm_df = pd.DataFrame(cm, index=['Actual Fraud', 'Actual No Fraud'], columns=['Predicted Fraud', 'Predicted No Fraud'])\n",
    "\n",
    "# Plotting the confusion matrix\n",
    "plt.figure(figsize=(8, 6))\n",
    "sns.heatmap(cm_df, annot=True, fmt='d', cbar=False)\n",
    "plt.title('Confusion Matrix')\n",
    "plt.xlabel('Predicted Label')\n",
    "plt.ylabel('True Label')\n",
    "plt.show()"
   ]
  },
  {
   "cell_type": "markdown",
   "metadata": {},
   "source": [
    "#### Evaluation\n",
    "\n"
   ]
  }
 ],
 "metadata": {
  "kernelspec": {
   "display_name": ".datascience",
   "language": "python",
   "name": "python3"
  },
  "language_info": {
   "codemirror_mode": {
    "name": "ipython",
    "version": 3
   },
   "file_extension": ".py",
   "mimetype": "text/x-python",
   "name": "python",
   "nbconvert_exporter": "python",
   "pygments_lexer": "ipython3",
   "version": "3.12.3"
  }
 },
 "nbformat": 4,
 "nbformat_minor": 2
}
