{
 "cells": [
  {
   "cell_type": "markdown",
   "metadata": {},
   "source": [
    "## Encoder Decoder"
   ]
  },
  {
   "cell_type": "code",
   "execution_count": null,
   "metadata": {},
   "outputs": [],
   "source": [
    "import pandas as pd\n",
    "import numpy as np\n",
    "\n",
    "df = pd.read_parquet(\"../0 - Data/4 - scaled/ft_strategy_1_scaled.pq\")\n",
    "df.head(2)"
   ]
  },
  {
   "cell_type": "code",
   "execution_count": null,
   "metadata": {},
   "outputs": [],
   "source": [
    "X = df.drop(columns=['Is Fraud'])\n",
    "\n",
    "# Set the dimensions for the encoder and bottleneck (latent) layer\n",
    "input_dim = X.shape[1] \n",
    "encoding_dim = 50 \n",
    "\n",
    "X.head(2)"
   ]
  },
  {
   "cell_type": "markdown",
   "metadata": {},
   "source": [
    "1. Define the Autoencoder Architecture"
   ]
  },
  {
   "cell_type": "code",
   "execution_count": null,
   "metadata": {},
   "outputs": [],
   "source": [
    "from tensorflow.keras.models import Model\n",
    "from tensorflow.keras.layers import Input, Dense\n",
    "from tensorflow.keras.optimizers import Adam\n",
    "\n",
    "\n",
    "# Encoder\n",
    "input_layer = Input(shape=(input_dim,))\n",
    "encoder = Dense(64, activation='relu')(input_layer)\n",
    "encoder = Dense(32, activation='relu')(encoder)\n",
    "bottleneck = Dense(encoding_dim, activation='relu')(encoder)  # Bottleneck layer\n",
    "\n",
    "# Decoder\n",
    "decoder = Dense(32, activation='relu')(bottleneck)\n",
    "decoder = Dense(64, activation='relu')(decoder)\n",
    "output_layer = Dense(input_dim, activation='linear')(decoder)  # Reconstruction output\n",
    "\n",
    "# Build the Autoencoder Model\n",
    "autoencoder = Model(inputs=input_layer, outputs=output_layer)\n",
    "\n",
    "# Compile the Model\n",
    "autoencoder.compile(optimizer=Adam(learning_rate=0.001), loss='mse')"
   ]
  },
  {
   "cell_type": "markdown",
   "metadata": {},
   "source": [
    "2. Train the Auto-Encoder"
   ]
  },
  {
   "cell_type": "code",
   "execution_count": null,
   "metadata": {},
   "outputs": [],
   "source": [
    "autoencoder.fit(X, X, epochs=20, batch_size=64, validation_split=0.2, verbose=1)"
   ]
  },
  {
   "cell_type": "markdown",
   "metadata": {},
   "source": [
    "3. Extract the Encoder Model for Dimensionality Reduction"
   ]
  },
  {
   "cell_type": "code",
   "execution_count": null,
   "metadata": {},
   "outputs": [],
   "source": [
    "encoder_model = Model(inputs=input_layer, outputs=bottleneck)\n",
    "\n",
    "# Transform the data into the reduced dimension using the encoder\n",
    "X_reduced = encoder_model.predict(X)\n",
    "\n",
    "# Convert the reduced data into a DataFrame and add the target column\n",
    "reduced_df = pd.DataFrame(X_reduced, columns=[f'Encoded_{i+1}' for i in range(encoding_dim)])\n",
    "reduced_df['Is Fraud'] = df['Is Fraud'].values"
   ]
  },
  {
   "cell_type": "markdown",
   "metadata": {},
   "source": [
    "4. Save the reduced DataFrame to a file"
   ]
  },
  {
   "cell_type": "code",
   "execution_count": null,
   "metadata": {},
   "outputs": [],
   "source": [
    "reduced_df.to_parquet(\"../0 - Data/5 - pcas/ft_strategy_1_ae_reduction.pq\")"
   ]
  }
 ],
 "metadata": {
  "kernelspec": {
   "display_name": ".datascience",
   "language": "python",
   "name": "python3"
  },
  "language_info": {
   "codemirror_mode": {
    "name": "ipython",
    "version": 3
   },
   "file_extension": ".py",
   "mimetype": "text/x-python",
   "name": "python",
   "nbconvert_exporter": "python",
   "pygments_lexer": "ipython3",
   "version": "3.12.3"
  }
 },
 "nbformat": 4,
 "nbformat_minor": 2
}
