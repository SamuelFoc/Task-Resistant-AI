{
 "cells": [
  {
   "cell_type": "markdown",
   "metadata": {},
   "source": [
    "## PCA"
   ]
  },
  {
   "cell_type": "code",
   "execution_count": 1,
   "metadata": {},
   "outputs": [
    {
     "data": {
      "text/html": [
       "<div>\n",
       "<style scoped>\n",
       "    .dataframe tbody tr th:only-of-type {\n",
       "        vertical-align: middle;\n",
       "    }\n",
       "\n",
       "    .dataframe tbody tr th {\n",
       "        vertical-align: top;\n",
       "    }\n",
       "\n",
       "    .dataframe thead th {\n",
       "        text-align: right;\n",
       "    }\n",
       "</style>\n",
       "<table border=\"1\" class=\"dataframe\">\n",
       "  <thead>\n",
       "    <tr style=\"text-align: right;\">\n",
       "      <th></th>\n",
       "      <th>Amount</th>\n",
       "      <th>MCC</th>\n",
       "      <th>Has Chip</th>\n",
       "      <th>Cards Issued</th>\n",
       "      <th>Credit Limit</th>\n",
       "      <th>Current Age</th>\n",
       "      <th>Retirement Age</th>\n",
       "      <th>Latitude</th>\n",
       "      <th>Longitude</th>\n",
       "      <th>Per Capita Income - Zipcode</th>\n",
       "      <th>...</th>\n",
       "      <th>Use Chip_Online Transaction</th>\n",
       "      <th>Use Chip_Swipe Transaction</th>\n",
       "      <th>Card Type_Debit</th>\n",
       "      <th>Card Type_Debit (Prepaid)</th>\n",
       "      <th>Gender_Male</th>\n",
       "      <th>Age Group_26-35</th>\n",
       "      <th>Age Group_36-45</th>\n",
       "      <th>Age Group_46-60</th>\n",
       "      <th>Age Group_60+</th>\n",
       "      <th>Is Fraud</th>\n",
       "    </tr>\n",
       "  </thead>\n",
       "  <tbody>\n",
       "    <tr>\n",
       "      <th>6780</th>\n",
       "      <td>1.025128</td>\n",
       "      <td>-0.028966</td>\n",
       "      <td>0.337145</td>\n",
       "      <td>0.963448</td>\n",
       "      <td>0.738314</td>\n",
       "      <td>-0.09811</td>\n",
       "      <td>-0.185577</td>\n",
       "      <td>-0.631234</td>\n",
       "      <td>-1.563208</td>\n",
       "      <td>0.447753</td>\n",
       "      <td>...</td>\n",
       "      <td>False</td>\n",
       "      <td>True</td>\n",
       "      <td>True</td>\n",
       "      <td>False</td>\n",
       "      <td>False</td>\n",
       "      <td>False</td>\n",
       "      <td>False</td>\n",
       "      <td>True</td>\n",
       "      <td>False</td>\n",
       "      <td>0</td>\n",
       "    </tr>\n",
       "    <tr>\n",
       "      <th>6781</th>\n",
       "      <td>1.025128</td>\n",
       "      <td>-0.028966</td>\n",
       "      <td>0.337145</td>\n",
       "      <td>0.963448</td>\n",
       "      <td>0.551106</td>\n",
       "      <td>-0.09811</td>\n",
       "      <td>-0.185577</td>\n",
       "      <td>-0.631234</td>\n",
       "      <td>-1.563208</td>\n",
       "      <td>0.447753</td>\n",
       "      <td>...</td>\n",
       "      <td>False</td>\n",
       "      <td>True</td>\n",
       "      <td>True</td>\n",
       "      <td>False</td>\n",
       "      <td>False</td>\n",
       "      <td>False</td>\n",
       "      <td>False</td>\n",
       "      <td>True</td>\n",
       "      <td>False</td>\n",
       "      <td>0</td>\n",
       "    </tr>\n",
       "  </tbody>\n",
       "</table>\n",
       "<p>2 rows × 40 columns</p>\n",
       "</div>"
      ],
      "text/plain": [
       "        Amount       MCC  Has Chip  Cards Issued  Credit Limit  Current Age  \\\n",
       "6780  1.025128 -0.028966  0.337145      0.963448      0.738314     -0.09811   \n",
       "6781  1.025128 -0.028966  0.337145      0.963448      0.551106     -0.09811   \n",
       "\n",
       "      Retirement Age  Latitude  Longitude  Per Capita Income - Zipcode  ...  \\\n",
       "6780       -0.185577 -0.631234  -1.563208                     0.447753  ...   \n",
       "6781       -0.185577 -0.631234  -1.563208                     0.447753  ...   \n",
       "\n",
       "      Use Chip_Online Transaction  Use Chip_Swipe Transaction  \\\n",
       "6780                        False                        True   \n",
       "6781                        False                        True   \n",
       "\n",
       "      Card Type_Debit  Card Type_Debit (Prepaid) Gender_Male  Age Group_26-35  \\\n",
       "6780             True                      False       False            False   \n",
       "6781             True                      False       False            False   \n",
       "\n",
       "      Age Group_36-45  Age Group_46-60  Age Group_60+  Is Fraud  \n",
       "6780            False             True          False         0  \n",
       "6781            False             True          False         0  \n",
       "\n",
       "[2 rows x 40 columns]"
      ]
     },
     "execution_count": 1,
     "metadata": {},
     "output_type": "execute_result"
    }
   ],
   "source": [
    "import pandas as pd\n",
    "import matplotlib.pyplot as plt\n",
    "\n",
    "df = pd.read_parquet(\"../0 - Data/4 - scaled/ft_strategy_2_scaled.pq\")\n",
    "df.head(2)"
   ]
  },
  {
   "cell_type": "markdown",
   "metadata": {},
   "source": [
    "Drop the Target Column"
   ]
  },
  {
   "cell_type": "code",
   "execution_count": 2,
   "metadata": {},
   "outputs": [],
   "source": [
    "X = df.drop([\"Is Fraud\", \"Datetime\"], axis=1)\n",
    "# X.head(2)"
   ]
  },
  {
   "cell_type": "markdown",
   "metadata": {},
   "source": [
    "Principal Component Analysis"
   ]
  },
  {
   "cell_type": "code",
   "execution_count": 3,
   "metadata": {},
   "outputs": [
    {
     "name": "stdout",
     "output_type": "stream",
     "text": [
      "Original Shape: (13412376, 38)\n",
      "After PCA Shape: (13412376, 30)\n"
     ]
    }
   ],
   "source": [
    "from sklearn.decomposition import PCA\n",
    "\n",
    "print(\"Original Shape:\", X.shape)\n",
    "\n",
    "pca = PCA(n_components=30)\n",
    "X_pca = pca.fit_transform(X)\n",
    "\n",
    "print(\"After PCA Shape:\", X_pca.shape)\n",
    "\n",
    "pca_df = pd.DataFrame(X_pca, columns=[f'PC{i+1}' for i in range(X_pca.shape[1])])\n",
    "pca_df[\"Is Fraud\"] = df[\"Is Fraud\"]\n",
    "pca_df[\"Datetime\"] = df[\"Datetime\"]\n",
    "# pca_df.head(2)"
   ]
  },
  {
   "cell_type": "markdown",
   "metadata": {},
   "source": [
    "Explained Variance"
   ]
  },
  {
   "cell_type": "code",
   "execution_count": 4,
   "metadata": {},
   "outputs": [],
   "source": [
    "# explained_variance = pca.explained_variance_ratio_\n",
    "# cumulative_variance = explained_variance.cumsum()\n",
    "\n",
    "# # 1. Variance Explanation Analysis\n",
    "# print(\"Explained Variance by Component:\")\n",
    "# for i, var in enumerate(explained_variance[:20], 1):  # showing first 20 components\n",
    "#     print(f\"PC{i}: {var:.4f}\")\n",
    "\n",
    "# print(\"\\nCumulative Explained Variance:\")\n",
    "# for i, var in enumerate(cumulative_variance[:20], 1):\n",
    "#     print(f\"PC{i}: {var:.4f}\")"
   ]
  },
  {
   "cell_type": "markdown",
   "metadata": {},
   "source": [
    "Loadings"
   ]
  },
  {
   "cell_type": "code",
   "execution_count": 5,
   "metadata": {},
   "outputs": [],
   "source": [
    "# loadings = pd.DataFrame(pca.components_, columns=X.columns, index=[f'PC{i+1}' for i in range(pca.n_components_)])\n",
    "# print(\"\\nTop Loadings for the First 5 Components:\")\n",
    "# for i in range(5):  # Show top loadings for the first 5 components\n",
    "#     print(f\"\\nPC{i+1} top features:\\n\", loadings.loc[f'PC{i+1}'].nlargest(5))"
   ]
  },
  {
   "cell_type": "markdown",
   "metadata": {},
   "source": [
    "Save the PCs"
   ]
  },
  {
   "cell_type": "code",
   "execution_count": 6,
   "metadata": {},
   "outputs": [],
   "source": [
    "pca_df.to_parquet(\"../0 - Data/5 - pcas/ft_strategy_2_pca.pq\")"
   ]
  }
 ],
 "metadata": {
  "kernelspec": {
   "display_name": ".datascience",
   "language": "python",
   "name": "python3"
  },
  "language_info": {
   "codemirror_mode": {
    "name": "ipython",
    "version": 3
   },
   "file_extension": ".py",
   "mimetype": "text/x-python",
   "name": "python",
   "nbconvert_exporter": "python",
   "pygments_lexer": "ipython3",
   "version": "3.12.3"
  }
 },
 "nbformat": 4,
 "nbformat_minor": 2
}
