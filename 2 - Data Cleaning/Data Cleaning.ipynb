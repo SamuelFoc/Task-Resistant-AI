{
 "cells": [
  {
   "cell_type": "markdown",
   "metadata": {},
   "source": [
    "## Data Types Check"
   ]
  },
  {
   "cell_type": "code",
   "execution_count": 38,
   "metadata": {},
   "outputs": [
    {
     "data": {
      "text/html": [
       "<div><style>\n",
       ".dataframe > thead > tr,\n",
       ".dataframe > tbody > tr {\n",
       "  text-align: right;\n",
       "  white-space: pre-wrap;\n",
       "}\n",
       "</style>\n",
       "<small>shape: (5, 45)</small><table border=\"1\" class=\"dataframe\"><thead><tr><th>User</th><th>Card</th><th>Year</th><th>Month</th><th>Day</th><th>Time</th><th>Amount</th><th>Use Chip</th><th>Merchant Name</th><th>Merchant City</th><th>Merchant State</th><th>Zip</th><th>MCC</th><th>Errors?</th><th>Is Fraud?</th><th>CARD INDEX</th><th>Card Brand</th><th>Card Type</th><th>Card Number</th><th>Expires</th><th>CVV</th><th>Has Chip</th><th>Cards Issued</th><th>Credit Limit</th><th>Acct Open Date</th><th>Year PIN last Changed</th><th>Card on Dark Web</th><th>Person</th><th>Current Age</th><th>Retirement Age</th><th>Birth Year</th><th>Birth Month</th><th>Gender</th><th>Address</th><th>Apartment</th><th>City</th><th>State</th><th>Zipcode</th><th>Latitude</th><th>Longitude</th><th>Per Capita Income - Zipcode</th><th>Yearly Income - Person</th><th>Total Debt</th><th>FICO Score</th><th>Num Credit Cards</th></tr><tr><td>i64</td><td>i64</td><td>i64</td><td>i64</td><td>i64</td><td>str</td><td>str</td><td>str</td><td>i64</td><td>str</td><td>str</td><td>f64</td><td>i64</td><td>str</td><td>str</td><td>i64</td><td>str</td><td>str</td><td>i64</td><td>str</td><td>i64</td><td>str</td><td>i64</td><td>str</td><td>str</td><td>i64</td><td>str</td><td>str</td><td>i64</td><td>i64</td><td>i64</td><td>i64</td><td>str</td><td>str</td><td>i64</td><td>str</td><td>str</td><td>i64</td><td>f64</td><td>f64</td><td>str</td><td>str</td><td>str</td><td>i64</td><td>i64</td></tr></thead><tbody><tr><td>0</td><td>0</td><td>2018</td><td>1</td><td>2</td><td>&quot;06:28&quot;</td><td>&quot;$130.95&quot;</td><td>&quot;Chip Transaction&quot;</td><td>5817218446178736267</td><td>&quot;La Verne&quot;</td><td>&quot;CA&quot;</td><td>91750.0</td><td>5912</td><td>null</td><td>&quot;No&quot;</td><td>0</td><td>&quot;Visa&quot;</td><td>&quot;Debit&quot;</td><td>4344676511950444</td><td>&quot;12/2022&quot;</td><td>623</td><td>&quot;YES&quot;</td><td>2</td><td>&quot;$24295&quot;</td><td>&quot;09/2002&quot;</td><td>2008</td><td>&quot;No&quot;</td><td>&quot;Hazel Robinson&quot;</td><td>53</td><td>66</td><td>1966</td><td>11</td><td>&quot;Female&quot;</td><td>&quot;462 Rose Lane&quot;</td><td>null</td><td>&quot;La Verne&quot;</td><td>&quot;CA&quot;</td><td>91750</td><td>34.15</td><td>-117.76</td><td>&quot;$29278&quot;</td><td>&quot;$59696&quot;</td><td>&quot;$127613&quot;</td><td>787</td><td>5</td></tr><tr><td>0</td><td>0</td><td>2018</td><td>1</td><td>2</td><td>&quot;06:28&quot;</td><td>&quot;$130.95&quot;</td><td>&quot;Chip Transaction&quot;</td><td>5817218446178736267</td><td>&quot;La Verne&quot;</td><td>&quot;CA&quot;</td><td>91750.0</td><td>5912</td><td>null</td><td>&quot;No&quot;</td><td>1</td><td>&quot;Visa&quot;</td><td>&quot;Debit&quot;</td><td>4956965974959986</td><td>&quot;12/2020&quot;</td><td>393</td><td>&quot;YES&quot;</td><td>2</td><td>&quot;$21968&quot;</td><td>&quot;04/2014&quot;</td><td>2014</td><td>&quot;No&quot;</td><td>&quot;Hazel Robinson&quot;</td><td>53</td><td>66</td><td>1966</td><td>11</td><td>&quot;Female&quot;</td><td>&quot;462 Rose Lane&quot;</td><td>null</td><td>&quot;La Verne&quot;</td><td>&quot;CA&quot;</td><td>91750</td><td>34.15</td><td>-117.76</td><td>&quot;$29278&quot;</td><td>&quot;$59696&quot;</td><td>&quot;$127613&quot;</td><td>787</td><td>5</td></tr><tr><td>0</td><td>0</td><td>2018</td><td>1</td><td>2</td><td>&quot;06:28&quot;</td><td>&quot;$130.95&quot;</td><td>&quot;Chip Transaction&quot;</td><td>5817218446178736267</td><td>&quot;La Verne&quot;</td><td>&quot;CA&quot;</td><td>91750.0</td><td>5912</td><td>null</td><td>&quot;No&quot;</td><td>2</td><td>&quot;Visa&quot;</td><td>&quot;Debit&quot;</td><td>4582313478255491</td><td>&quot;02/2024&quot;</td><td>719</td><td>&quot;YES&quot;</td><td>2</td><td>&quot;$46414&quot;</td><td>&quot;07/2003&quot;</td><td>2004</td><td>&quot;No&quot;</td><td>&quot;Hazel Robinson&quot;</td><td>53</td><td>66</td><td>1966</td><td>11</td><td>&quot;Female&quot;</td><td>&quot;462 Rose Lane&quot;</td><td>null</td><td>&quot;La Verne&quot;</td><td>&quot;CA&quot;</td><td>91750</td><td>34.15</td><td>-117.76</td><td>&quot;$29278&quot;</td><td>&quot;$59696&quot;</td><td>&quot;$127613&quot;</td><td>787</td><td>5</td></tr><tr><td>0</td><td>0</td><td>2018</td><td>1</td><td>2</td><td>&quot;06:28&quot;</td><td>&quot;$130.95&quot;</td><td>&quot;Chip Transaction&quot;</td><td>5817218446178736267</td><td>&quot;La Verne&quot;</td><td>&quot;CA&quot;</td><td>91750.0</td><td>5912</td><td>null</td><td>&quot;No&quot;</td><td>3</td><td>&quot;Visa&quot;</td><td>&quot;Credit&quot;</td><td>4879494103069057</td><td>&quot;08/2024&quot;</td><td>693</td><td>&quot;NO&quot;</td><td>1</td><td>&quot;$12400&quot;</td><td>&quot;01/2003&quot;</td><td>2012</td><td>&quot;No&quot;</td><td>&quot;Hazel Robinson&quot;</td><td>53</td><td>66</td><td>1966</td><td>11</td><td>&quot;Female&quot;</td><td>&quot;462 Rose Lane&quot;</td><td>null</td><td>&quot;La Verne&quot;</td><td>&quot;CA&quot;</td><td>91750</td><td>34.15</td><td>-117.76</td><td>&quot;$29278&quot;</td><td>&quot;$59696&quot;</td><td>&quot;$127613&quot;</td><td>787</td><td>5</td></tr><tr><td>0</td><td>0</td><td>2018</td><td>1</td><td>2</td><td>&quot;06:28&quot;</td><td>&quot;$130.95&quot;</td><td>&quot;Chip Transaction&quot;</td><td>5817218446178736267</td><td>&quot;La Verne&quot;</td><td>&quot;CA&quot;</td><td>91750.0</td><td>5912</td><td>null</td><td>&quot;No&quot;</td><td>4</td><td>&quot;Mastercard&quot;</td><td>&quot;Debit (Prepaid)&quot;</td><td>5722874738736011</td><td>&quot;03/2009&quot;</td><td>75</td><td>&quot;YES&quot;</td><td>1</td><td>&quot;$28&quot;</td><td>&quot;09/2008&quot;</td><td>2009</td><td>&quot;No&quot;</td><td>&quot;Hazel Robinson&quot;</td><td>53</td><td>66</td><td>1966</td><td>11</td><td>&quot;Female&quot;</td><td>&quot;462 Rose Lane&quot;</td><td>null</td><td>&quot;La Verne&quot;</td><td>&quot;CA&quot;</td><td>91750</td><td>34.15</td><td>-117.76</td><td>&quot;$29278&quot;</td><td>&quot;$59696&quot;</td><td>&quot;$127613&quot;</td><td>787</td><td>5</td></tr></tbody></table></div>"
      ],
      "text/plain": [
       "shape: (5, 45)\n",
       "┌──────┬──────┬──────┬───────┬───┬─────────────────┬────────────┬────────────┬──────────────────┐\n",
       "│ User ┆ Card ┆ Year ┆ Month ┆ … ┆ Yearly Income - ┆ Total Debt ┆ FICO Score ┆ Num Credit Cards │\n",
       "│ ---  ┆ ---  ┆ ---  ┆ ---   ┆   ┆ Person          ┆ ---        ┆ ---        ┆ ---              │\n",
       "│ i64  ┆ i64  ┆ i64  ┆ i64   ┆   ┆ ---             ┆ str        ┆ i64        ┆ i64              │\n",
       "│      ┆      ┆      ┆       ┆   ┆ str             ┆            ┆            ┆                  │\n",
       "╞══════╪══════╪══════╪═══════╪═══╪═════════════════╪════════════╪════════════╪══════════════════╡\n",
       "│ 0    ┆ 0    ┆ 2018 ┆ 1     ┆ … ┆ $59696          ┆ $127613    ┆ 787        ┆ 5                │\n",
       "│ 0    ┆ 0    ┆ 2018 ┆ 1     ┆ … ┆ $59696          ┆ $127613    ┆ 787        ┆ 5                │\n",
       "│ 0    ┆ 0    ┆ 2018 ┆ 1     ┆ … ┆ $59696          ┆ $127613    ┆ 787        ┆ 5                │\n",
       "│ 0    ┆ 0    ┆ 2018 ┆ 1     ┆ … ┆ $59696          ┆ $127613    ┆ 787        ┆ 5                │\n",
       "│ 0    ┆ 0    ┆ 2018 ┆ 1     ┆ … ┆ $59696          ┆ $127613    ┆ 787        ┆ 5                │\n",
       "└──────┴──────┴──────┴───────┴───┴─────────────────┴────────────┴────────────┴──────────────────┘"
      ]
     },
     "execution_count": 38,
     "metadata": {},
     "output_type": "execute_result"
    }
   ],
   "source": [
    "import polars as pl\n",
    "\n",
    "# Read the data from directory\n",
    "df = pl.read_parquet(\"../0 - Data/1 - merge/merged_transactions.pq\")\n",
    "df.head()"
   ]
  },
  {
   "cell_type": "markdown",
   "metadata": {},
   "source": [
    "#### Combine `Year`, `Month`, `Day`, and `Time` into a single `Datetime` column"
   ]
  },
  {
   "cell_type": "code",
   "execution_count": 39,
   "metadata": {},
   "outputs": [],
   "source": [
    "df = df.with_columns([\n",
    "    # Ensure 'Year', 'Month', 'Day' are numeric first\n",
    "    pl.col('Year').cast(pl.Int32).alias('Year'),\n",
    "    pl.col('Month').cast(pl.Int32).alias('Month'),\n",
    "    pl.col('Day').cast(pl.Int32).alias('Day'),\n",
    "    \n",
    "    # Ensure 'Time' is string for concatenation\n",
    "    pl.col('Time').cast(pl.Utf8).alias('Time'),\n",
    "\n",
    "    # Create a new 'Datetime_str' column by concatenating 'Year', 'Month', 'Day', and 'Time' as a string\n",
    "    pl.concat_str(\n",
    "        [pl.col(\"Year\").cast(pl.Utf8), \n",
    "         pl.col(\"Month\").cast(pl.Utf8).str.zfill(2), \n",
    "         pl.col(\"Day\").cast(pl.Utf8).str.zfill(2), \n",
    "         pl.col(\"Time\")],\n",
    "        separator=\"-\"\n",
    "    ).alias(\"Datetime_str\")\n",
    "])\n",
    "\n",
    "# Parse the concatenated 'Datetime_str' into a proper Datetime column\n",
    "df = df.with_columns([\n",
    "    pl.col(\"Datetime_str\").str.strptime(pl.Datetime, format=\"%Y-%m-%d-%H:%M\").alias(\"Datetime\")\n",
    "])\n",
    "\n",
    "# Drop unnecessary columns: Time and temporary Datetime_str\n",
    "df = df.drop([\"Time\", \"Datetime_str\"])"
   ]
  },
  {
   "cell_type": "markdown",
   "metadata": {},
   "source": [
    "#### Handle Rest of the Date Columns\n",
    "\n",
    "- Expire Column\n",
    "- Acc Open Date"
   ]
  },
  {
   "cell_type": "code",
   "execution_count": 40,
   "metadata": {},
   "outputs": [],
   "source": [
    "# Convert to date\n",
    "df = df.with_columns(\n",
    "        (\n",
    "            pl.col(\"Expires\")\n",
    "            .str.strptime(pl.Date, format=\"%m/%Y\", strict=False)\n",
    "            .alias(\"Expires\")\n",
    "        )\n",
    "    )\n",
    "\n",
    "# Convert to date\n",
    "df = df.with_columns(\n",
    "        (\n",
    "            pl.col(\"Acct Open Date\")\n",
    "            .str.strptime(pl.Date, format=\"%m/%Y\", strict=False)\n",
    "            .alias(\"Acct Open Date\")\n",
    "        )\n",
    "    )"
   ]
  },
  {
   "cell_type": "markdown",
   "metadata": {},
   "source": [
    "#### Handle Financial Columns\n",
    "\n",
    "- Amount\n",
    "- Credit Limit\n",
    "- Yearly Incom - Person\n",
    "- Total Debt\n",
    "- Per Capita Income - Zipcode"
   ]
  },
  {
   "cell_type": "code",
   "execution_count": 41,
   "metadata": {},
   "outputs": [],
   "source": [
    "import polars as pl\n",
    "\n",
    "# Define the financial columns that need cleaning\n",
    "financial_columns = [\n",
    "    \"Amount\", \"Credit Limit\", \"Yearly Income - Person\", \n",
    "    \"Total Debt\", \"Per Capita Income - Zipcode\"\n",
    "]\n",
    "\n",
    "# Apply the transformations in a loop\n",
    "df = df.with_columns([\n",
    "    # Clean each financial column in the list\n",
    "    pl.when(pl.col(col).is_not_null())\n",
    "      .then(pl.col(col).str.replace('$', '', literal=True))\n",
    "      .otherwise(None)\n",
    "      .cast(pl.Float64)\n",
    "      .alias(col)\n",
    "    for col in financial_columns\n",
    "] + [\n",
    "    # Cast other columns directly\n",
    "    pl.col(\"FICO Score\").cast(pl.Int64).alias(\"FICO Score\"),\n",
    "    pl.col(\"Num Credit Cards\").cast(pl.Int64).alias(\"Num Credit Cards\")\n",
    "])"
   ]
  },
  {
   "cell_type": "markdown",
   "metadata": {},
   "source": [
    "#### Handle Boolean Columns\n",
    "\n",
    "- Is Fraud?\n",
    "- Has Chip\n",
    "- Card on Dark Web"
   ]
  },
  {
   "cell_type": "code",
   "execution_count": 42,
   "metadata": {},
   "outputs": [],
   "source": [
    "# Convert columns 'Is Fraud?', 'Has Chip', 'Card on Dark Web' to boolean\n",
    "df = df.with_columns([\n",
    "    pl.when(pl.col(\"Is Fraud?\") == \"Yes\").then(1).otherwise(0).alias(\"Is Fraud\"),\n",
    "    pl.when(pl.col(\"Has Chip\") == \"YES\").then(1).otherwise(0).alias(\"Has Chip\"),\n",
    "    pl.when(pl.col(\"Card on Dark Web\") == \"Yes\").then(1).otherwise(0).alias(\"Card on Dark Web\")\n",
    "])\n",
    "\n",
    "df = df.drop([ \"Is Fraud?\" ])"
   ]
  },
  {
   "cell_type": "markdown",
   "metadata": {},
   "source": [
    "#### Categorical Columns (UTF8)\n",
    "\n",
    "- Merchant Name\n",
    "- Card Type\n",
    "- Card Brand\n",
    "- Merchant City\n",
    "- Merchant State\n",
    "- Zip\n",
    "- Use Chip"
   ]
  },
  {
   "cell_type": "code",
   "execution_count": 43,
   "metadata": {},
   "outputs": [],
   "source": [
    "# Ensure categorical or string columns are UTF8 type\n",
    "df = df.with_columns([\n",
    "    pl.col(\"Merchant Name\").cast(pl.Utf8).alias(\"Merchant Name\"),\n",
    "    pl.col(\"Card Brand\").cast(pl.Utf8).alias(\"Card Brand\"),\n",
    "    pl.col(\"Card Type\").cast(pl.Utf8).alias(\"Card Type\"),\n",
    "    pl.col(\"Merchant City\").cast(pl.Utf8).alias(\"Merchant City\"),\n",
    "    pl.col(\"Merchant State\").cast(pl.Utf8).alias(\"Merchant State\"),\n",
    "    pl.col(\"Zip\").cast(pl.Utf8).alias(\"Zip\"),\n",
    "    pl.col(\"Use Chip\").cast(pl.Utf8).alias(\"Use Chip\")\n",
    "])"
   ]
  },
  {
   "cell_type": "markdown",
   "metadata": {},
   "source": [
    "#### Handle Rest of the Numerical Columns (Float)"
   ]
  },
  {
   "cell_type": "code",
   "execution_count": 44,
   "metadata": {},
   "outputs": [],
   "source": [
    "# Ensure 'Latitude' and 'Longitude' are float type\n",
    "df = df.with_columns([\n",
    "    pl.col(\"Latitude\").cast(pl.Float64).alias(\"Latitude\"),\n",
    "    pl.col(\"Longitude\").cast(pl.Float64).alias(\"Longitude\")\n",
    "])"
   ]
  },
  {
   "cell_type": "markdown",
   "metadata": {},
   "source": [
    "#### Handle Null Values"
   ]
  },
  {
   "cell_type": "code",
   "execution_count": 45,
   "metadata": {},
   "outputs": [
    {
     "name": "stdout",
     "output_type": "stream",
     "text": [
      "Columns with NULL values: ['Merchant State', 'Zip', 'Errors?', 'Apartment']\n"
     ]
    }
   ],
   "source": [
    "# Find all the nulls within the data\n",
    "def check_for_null_cols(df: pl.DataFrame):\n",
    "    null_counts = df.null_count()\n",
    "    null_cols = []\n",
    "    for idx, col in enumerate(null_counts):\n",
    "        if col[0] > 0:\n",
    "            null_cols.append(null_counts.columns[idx])\n",
    "\n",
    "    return null_cols\n",
    "\n",
    "print(\"Columns with NULL values:\", check_for_null_cols(df))"
   ]
  },
  {
   "cell_type": "code",
   "execution_count": 46,
   "metadata": {},
   "outputs": [],
   "source": [
    "# Fill null values with appropriate defaults\n",
    "df = df.with_columns([\n",
    "    pl.col(\"Zip\").fill_null(\"Unknown\"),\n",
    "    pl.col(\"Errors?\").fill_null(0),\n",
    "    pl.col(\"Merchant State\").fill_null(\"Unknown\"),\n",
    "    pl.col(\"Apartment\").fill_null(\"Unknown\")\n",
    "])"
   ]
  },
  {
   "cell_type": "code",
   "execution_count": 47,
   "metadata": {},
   "outputs": [
    {
     "name": "stdout",
     "output_type": "stream",
     "text": [
      "Columns with NULL values: []\n"
     ]
    }
   ],
   "source": [
    "# Just to be sure\n",
    "print(\"Columns with NULL values:\", check_for_null_cols(df))"
   ]
  },
  {
   "cell_type": "markdown",
   "metadata": {},
   "source": [
    "#### Type Checked Data"
   ]
  },
  {
   "cell_type": "code",
   "execution_count": 48,
   "metadata": {},
   "outputs": [
    {
     "data": {
      "text/html": [
       "<div><style>\n",
       ".dataframe > thead > tr,\n",
       ".dataframe > tbody > tr {\n",
       "  text-align: right;\n",
       "  white-space: pre-wrap;\n",
       "}\n",
       "</style>\n",
       "<small>shape: (5, 45)</small><table border=\"1\" class=\"dataframe\"><thead><tr><th>User</th><th>Card</th><th>Year</th><th>Month</th><th>Day</th><th>Amount</th><th>Use Chip</th><th>Merchant Name</th><th>Merchant City</th><th>Merchant State</th><th>Zip</th><th>MCC</th><th>Errors?</th><th>CARD INDEX</th><th>Card Brand</th><th>Card Type</th><th>Card Number</th><th>Expires</th><th>CVV</th><th>Has Chip</th><th>Cards Issued</th><th>Credit Limit</th><th>Acct Open Date</th><th>Year PIN last Changed</th><th>Card on Dark Web</th><th>Person</th><th>Current Age</th><th>Retirement Age</th><th>Birth Year</th><th>Birth Month</th><th>Gender</th><th>Address</th><th>Apartment</th><th>City</th><th>State</th><th>Zipcode</th><th>Latitude</th><th>Longitude</th><th>Per Capita Income - Zipcode</th><th>Yearly Income - Person</th><th>Total Debt</th><th>FICO Score</th><th>Num Credit Cards</th><th>Datetime</th><th>Is Fraud</th></tr><tr><td>i64</td><td>i64</td><td>i32</td><td>i32</td><td>i32</td><td>f64</td><td>str</td><td>str</td><td>str</td><td>str</td><td>str</td><td>i64</td><td>str</td><td>i64</td><td>str</td><td>str</td><td>i64</td><td>date</td><td>i64</td><td>i32</td><td>i64</td><td>f64</td><td>date</td><td>i64</td><td>i32</td><td>str</td><td>i64</td><td>i64</td><td>i64</td><td>i64</td><td>str</td><td>str</td><td>str</td><td>str</td><td>str</td><td>i64</td><td>f64</td><td>f64</td><td>f64</td><td>f64</td><td>f64</td><td>i64</td><td>i64</td><td>datetime[μs]</td><td>i32</td></tr></thead><tbody><tr><td>0</td><td>0</td><td>2018</td><td>1</td><td>2</td><td>130.95</td><td>&quot;Chip Transaction&quot;</td><td>&quot;5817218446178736267&quot;</td><td>&quot;La Verne&quot;</td><td>&quot;CA&quot;</td><td>&quot;91750.0&quot;</td><td>5912</td><td>&quot;0&quot;</td><td>0</td><td>&quot;Visa&quot;</td><td>&quot;Debit&quot;</td><td>4344676511950444</td><td>2022-12-01</td><td>623</td><td>1</td><td>2</td><td>24295.0</td><td>2002-09-01</td><td>2008</td><td>0</td><td>&quot;Hazel Robinson&quot;</td><td>53</td><td>66</td><td>1966</td><td>11</td><td>&quot;Female&quot;</td><td>&quot;462 Rose Lane&quot;</td><td>&quot;Unknown&quot;</td><td>&quot;La Verne&quot;</td><td>&quot;CA&quot;</td><td>91750</td><td>34.15</td><td>-117.76</td><td>29278.0</td><td>59696.0</td><td>127613.0</td><td>787</td><td>5</td><td>2018-01-02 06:28:00</td><td>0</td></tr><tr><td>0</td><td>0</td><td>2018</td><td>1</td><td>2</td><td>130.95</td><td>&quot;Chip Transaction&quot;</td><td>&quot;5817218446178736267&quot;</td><td>&quot;La Verne&quot;</td><td>&quot;CA&quot;</td><td>&quot;91750.0&quot;</td><td>5912</td><td>&quot;0&quot;</td><td>1</td><td>&quot;Visa&quot;</td><td>&quot;Debit&quot;</td><td>4956965974959986</td><td>2020-12-01</td><td>393</td><td>1</td><td>2</td><td>21968.0</td><td>2014-04-01</td><td>2014</td><td>0</td><td>&quot;Hazel Robinson&quot;</td><td>53</td><td>66</td><td>1966</td><td>11</td><td>&quot;Female&quot;</td><td>&quot;462 Rose Lane&quot;</td><td>&quot;Unknown&quot;</td><td>&quot;La Verne&quot;</td><td>&quot;CA&quot;</td><td>91750</td><td>34.15</td><td>-117.76</td><td>29278.0</td><td>59696.0</td><td>127613.0</td><td>787</td><td>5</td><td>2018-01-02 06:28:00</td><td>0</td></tr><tr><td>0</td><td>0</td><td>2018</td><td>1</td><td>2</td><td>130.95</td><td>&quot;Chip Transaction&quot;</td><td>&quot;5817218446178736267&quot;</td><td>&quot;La Verne&quot;</td><td>&quot;CA&quot;</td><td>&quot;91750.0&quot;</td><td>5912</td><td>&quot;0&quot;</td><td>2</td><td>&quot;Visa&quot;</td><td>&quot;Debit&quot;</td><td>4582313478255491</td><td>2024-02-01</td><td>719</td><td>1</td><td>2</td><td>46414.0</td><td>2003-07-01</td><td>2004</td><td>0</td><td>&quot;Hazel Robinson&quot;</td><td>53</td><td>66</td><td>1966</td><td>11</td><td>&quot;Female&quot;</td><td>&quot;462 Rose Lane&quot;</td><td>&quot;Unknown&quot;</td><td>&quot;La Verne&quot;</td><td>&quot;CA&quot;</td><td>91750</td><td>34.15</td><td>-117.76</td><td>29278.0</td><td>59696.0</td><td>127613.0</td><td>787</td><td>5</td><td>2018-01-02 06:28:00</td><td>0</td></tr><tr><td>0</td><td>0</td><td>2018</td><td>1</td><td>2</td><td>130.95</td><td>&quot;Chip Transaction&quot;</td><td>&quot;5817218446178736267&quot;</td><td>&quot;La Verne&quot;</td><td>&quot;CA&quot;</td><td>&quot;91750.0&quot;</td><td>5912</td><td>&quot;0&quot;</td><td>3</td><td>&quot;Visa&quot;</td><td>&quot;Credit&quot;</td><td>4879494103069057</td><td>2024-08-01</td><td>693</td><td>0</td><td>1</td><td>12400.0</td><td>2003-01-01</td><td>2012</td><td>0</td><td>&quot;Hazel Robinson&quot;</td><td>53</td><td>66</td><td>1966</td><td>11</td><td>&quot;Female&quot;</td><td>&quot;462 Rose Lane&quot;</td><td>&quot;Unknown&quot;</td><td>&quot;La Verne&quot;</td><td>&quot;CA&quot;</td><td>91750</td><td>34.15</td><td>-117.76</td><td>29278.0</td><td>59696.0</td><td>127613.0</td><td>787</td><td>5</td><td>2018-01-02 06:28:00</td><td>0</td></tr><tr><td>0</td><td>0</td><td>2018</td><td>1</td><td>2</td><td>130.95</td><td>&quot;Chip Transaction&quot;</td><td>&quot;5817218446178736267&quot;</td><td>&quot;La Verne&quot;</td><td>&quot;CA&quot;</td><td>&quot;91750.0&quot;</td><td>5912</td><td>&quot;0&quot;</td><td>4</td><td>&quot;Mastercard&quot;</td><td>&quot;Debit (Prepaid)&quot;</td><td>5722874738736011</td><td>2009-03-01</td><td>75</td><td>1</td><td>1</td><td>28.0</td><td>2008-09-01</td><td>2009</td><td>0</td><td>&quot;Hazel Robinson&quot;</td><td>53</td><td>66</td><td>1966</td><td>11</td><td>&quot;Female&quot;</td><td>&quot;462 Rose Lane&quot;</td><td>&quot;Unknown&quot;</td><td>&quot;La Verne&quot;</td><td>&quot;CA&quot;</td><td>91750</td><td>34.15</td><td>-117.76</td><td>29278.0</td><td>59696.0</td><td>127613.0</td><td>787</td><td>5</td><td>2018-01-02 06:28:00</td><td>0</td></tr></tbody></table></div>"
      ],
      "text/plain": [
       "shape: (5, 45)\n",
       "┌──────┬──────┬──────┬───────┬───┬────────────┬──────────────────┬─────────────────────┬──────────┐\n",
       "│ User ┆ Card ┆ Year ┆ Month ┆ … ┆ FICO Score ┆ Num Credit Cards ┆ Datetime            ┆ Is Fraud │\n",
       "│ ---  ┆ ---  ┆ ---  ┆ ---   ┆   ┆ ---        ┆ ---              ┆ ---                 ┆ ---      │\n",
       "│ i64  ┆ i64  ┆ i32  ┆ i32   ┆   ┆ i64        ┆ i64              ┆ datetime[μs]        ┆ i32      │\n",
       "╞══════╪══════╪══════╪═══════╪═══╪════════════╪══════════════════╪═════════════════════╪══════════╡\n",
       "│ 0    ┆ 0    ┆ 2018 ┆ 1     ┆ … ┆ 787        ┆ 5                ┆ 2018-01-02 06:28:00 ┆ 0        │\n",
       "│ 0    ┆ 0    ┆ 2018 ┆ 1     ┆ … ┆ 787        ┆ 5                ┆ 2018-01-02 06:28:00 ┆ 0        │\n",
       "│ 0    ┆ 0    ┆ 2018 ┆ 1     ┆ … ┆ 787        ┆ 5                ┆ 2018-01-02 06:28:00 ┆ 0        │\n",
       "│ 0    ┆ 0    ┆ 2018 ┆ 1     ┆ … ┆ 787        ┆ 5                ┆ 2018-01-02 06:28:00 ┆ 0        │\n",
       "│ 0    ┆ 0    ┆ 2018 ┆ 1     ┆ … ┆ 787        ┆ 5                ┆ 2018-01-02 06:28:00 ┆ 0        │\n",
       "└──────┴──────┴──────┴───────┴───┴────────────┴──────────────────┴─────────────────────┴──────────┘"
      ]
     },
     "execution_count": 48,
     "metadata": {},
     "output_type": "execute_result"
    }
   ],
   "source": [
    "df.head()"
   ]
  },
  {
   "cell_type": "markdown",
   "metadata": {},
   "source": [
    "#### Save the cleaned data"
   ]
  },
  {
   "cell_type": "code",
   "execution_count": 49,
   "metadata": {},
   "outputs": [],
   "source": [
    "# Type checked data but with full columns (For further data exploration)\n",
    "df.write_parquet(\"../0 - Data/2 - clean/clean_transactions.pq\")"
   ]
  }
 ],
 "metadata": {
  "kernelspec": {
   "display_name": ".datascience",
   "language": "python",
   "name": "python3"
  },
  "language_info": {
   "codemirror_mode": {
    "name": "ipython",
    "version": 3
   },
   "file_extension": ".py",
   "mimetype": "text/x-python",
   "name": "python",
   "nbconvert_exporter": "python",
   "pygments_lexer": "ipython3",
   "version": "3.12.3"
  }
 },
 "nbformat": 4,
 "nbformat_minor": 2
}
