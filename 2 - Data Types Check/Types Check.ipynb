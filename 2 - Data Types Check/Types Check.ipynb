{
 "cells": [
  {
   "cell_type": "markdown",
   "metadata": {},
   "source": [
    "## Data Types Check"
   ]
  },
  {
   "cell_type": "code",
   "execution_count": 1,
   "metadata": {},
   "outputs": [],
   "source": [
    "import polars as pl\n",
    "\n",
    "# Read the data from directory\n",
    "df = pl.read_parquet(\"../0 - Data/merged_transactions.pq\")"
   ]
  },
  {
   "cell_type": "code",
   "execution_count": 2,
   "metadata": {},
   "outputs": [
    {
     "data": {
      "text/html": [
       "<div><style>\n",
       ".dataframe > thead > tr,\n",
       ".dataframe > tbody > tr {\n",
       "  text-align: right;\n",
       "  white-space: pre-wrap;\n",
       "}\n",
       "</style>\n",
       "<small>shape: (5, 45)</small><table border=\"1\" class=\"dataframe\"><thead><tr><th>User</th><th>Card</th><th>Year</th><th>Month</th><th>Day</th><th>Time</th><th>Amount</th><th>Use Chip</th><th>Merchant Name</th><th>Merchant City</th><th>Merchant State</th><th>Zip</th><th>MCC</th><th>Errors?</th><th>Is Fraud?</th><th>CARD INDEX</th><th>Card Brand</th><th>Card Type</th><th>Card Number</th><th>Expires</th><th>CVV</th><th>Has Chip</th><th>Cards Issued</th><th>Credit Limit</th><th>Acct Open Date</th><th>Year PIN last Changed</th><th>Card on Dark Web</th><th>Person</th><th>Current Age</th><th>Retirement Age</th><th>Birth Year</th><th>Birth Month</th><th>Gender</th><th>Address</th><th>Apartment</th><th>City</th><th>State</th><th>Zipcode</th><th>Latitude</th><th>Longitude</th><th>Per Capita Income - Zipcode</th><th>Yearly Income - Person</th><th>Total Debt</th><th>FICO Score</th><th>Num Credit Cards</th></tr><tr><td>i64</td><td>i64</td><td>i64</td><td>i64</td><td>i64</td><td>str</td><td>str</td><td>str</td><td>i64</td><td>str</td><td>str</td><td>f64</td><td>i64</td><td>str</td><td>str</td><td>i64</td><td>str</td><td>str</td><td>i64</td><td>str</td><td>i64</td><td>str</td><td>i64</td><td>str</td><td>str</td><td>i64</td><td>str</td><td>str</td><td>i64</td><td>i64</td><td>i64</td><td>i64</td><td>str</td><td>str</td><td>i64</td><td>str</td><td>str</td><td>i64</td><td>f64</td><td>f64</td><td>str</td><td>str</td><td>str</td><td>i64</td><td>i64</td></tr></thead><tbody><tr><td>0</td><td>0</td><td>2018</td><td>1</td><td>2</td><td>&quot;06:28&quot;</td><td>&quot;$130.95&quot;</td><td>&quot;Chip Transaction&quot;</td><td>5817218446178736267</td><td>&quot;La Verne&quot;</td><td>&quot;CA&quot;</td><td>91750.0</td><td>5912</td><td>null</td><td>&quot;No&quot;</td><td>0</td><td>&quot;Visa&quot;</td><td>&quot;Debit&quot;</td><td>4344676511950444</td><td>&quot;12/2022&quot;</td><td>623</td><td>&quot;YES&quot;</td><td>2</td><td>&quot;$24295&quot;</td><td>&quot;09/2002&quot;</td><td>2008</td><td>&quot;No&quot;</td><td>&quot;Hazel Robinson&quot;</td><td>53</td><td>66</td><td>1966</td><td>11</td><td>&quot;Female&quot;</td><td>&quot;462 Rose Lane&quot;</td><td>null</td><td>&quot;La Verne&quot;</td><td>&quot;CA&quot;</td><td>91750</td><td>34.15</td><td>-117.76</td><td>&quot;$29278&quot;</td><td>&quot;$59696&quot;</td><td>&quot;$127613&quot;</td><td>787</td><td>5</td></tr><tr><td>0</td><td>0</td><td>2018</td><td>1</td><td>2</td><td>&quot;06:28&quot;</td><td>&quot;$130.95&quot;</td><td>&quot;Chip Transaction&quot;</td><td>5817218446178736267</td><td>&quot;La Verne&quot;</td><td>&quot;CA&quot;</td><td>91750.0</td><td>5912</td><td>null</td><td>&quot;No&quot;</td><td>1</td><td>&quot;Visa&quot;</td><td>&quot;Debit&quot;</td><td>4956965974959986</td><td>&quot;12/2020&quot;</td><td>393</td><td>&quot;YES&quot;</td><td>2</td><td>&quot;$21968&quot;</td><td>&quot;04/2014&quot;</td><td>2014</td><td>&quot;No&quot;</td><td>&quot;Hazel Robinson&quot;</td><td>53</td><td>66</td><td>1966</td><td>11</td><td>&quot;Female&quot;</td><td>&quot;462 Rose Lane&quot;</td><td>null</td><td>&quot;La Verne&quot;</td><td>&quot;CA&quot;</td><td>91750</td><td>34.15</td><td>-117.76</td><td>&quot;$29278&quot;</td><td>&quot;$59696&quot;</td><td>&quot;$127613&quot;</td><td>787</td><td>5</td></tr><tr><td>0</td><td>0</td><td>2018</td><td>1</td><td>2</td><td>&quot;06:28&quot;</td><td>&quot;$130.95&quot;</td><td>&quot;Chip Transaction&quot;</td><td>5817218446178736267</td><td>&quot;La Verne&quot;</td><td>&quot;CA&quot;</td><td>91750.0</td><td>5912</td><td>null</td><td>&quot;No&quot;</td><td>2</td><td>&quot;Visa&quot;</td><td>&quot;Debit&quot;</td><td>4582313478255491</td><td>&quot;02/2024&quot;</td><td>719</td><td>&quot;YES&quot;</td><td>2</td><td>&quot;$46414&quot;</td><td>&quot;07/2003&quot;</td><td>2004</td><td>&quot;No&quot;</td><td>&quot;Hazel Robinson&quot;</td><td>53</td><td>66</td><td>1966</td><td>11</td><td>&quot;Female&quot;</td><td>&quot;462 Rose Lane&quot;</td><td>null</td><td>&quot;La Verne&quot;</td><td>&quot;CA&quot;</td><td>91750</td><td>34.15</td><td>-117.76</td><td>&quot;$29278&quot;</td><td>&quot;$59696&quot;</td><td>&quot;$127613&quot;</td><td>787</td><td>5</td></tr><tr><td>0</td><td>0</td><td>2018</td><td>1</td><td>2</td><td>&quot;06:28&quot;</td><td>&quot;$130.95&quot;</td><td>&quot;Chip Transaction&quot;</td><td>5817218446178736267</td><td>&quot;La Verne&quot;</td><td>&quot;CA&quot;</td><td>91750.0</td><td>5912</td><td>null</td><td>&quot;No&quot;</td><td>3</td><td>&quot;Visa&quot;</td><td>&quot;Credit&quot;</td><td>4879494103069057</td><td>&quot;08/2024&quot;</td><td>693</td><td>&quot;NO&quot;</td><td>1</td><td>&quot;$12400&quot;</td><td>&quot;01/2003&quot;</td><td>2012</td><td>&quot;No&quot;</td><td>&quot;Hazel Robinson&quot;</td><td>53</td><td>66</td><td>1966</td><td>11</td><td>&quot;Female&quot;</td><td>&quot;462 Rose Lane&quot;</td><td>null</td><td>&quot;La Verne&quot;</td><td>&quot;CA&quot;</td><td>91750</td><td>34.15</td><td>-117.76</td><td>&quot;$29278&quot;</td><td>&quot;$59696&quot;</td><td>&quot;$127613&quot;</td><td>787</td><td>5</td></tr><tr><td>0</td><td>0</td><td>2018</td><td>1</td><td>2</td><td>&quot;06:28&quot;</td><td>&quot;$130.95&quot;</td><td>&quot;Chip Transaction&quot;</td><td>5817218446178736267</td><td>&quot;La Verne&quot;</td><td>&quot;CA&quot;</td><td>91750.0</td><td>5912</td><td>null</td><td>&quot;No&quot;</td><td>4</td><td>&quot;Mastercard&quot;</td><td>&quot;Debit (Prepaid)&quot;</td><td>5722874738736011</td><td>&quot;03/2009&quot;</td><td>75</td><td>&quot;YES&quot;</td><td>1</td><td>&quot;$28&quot;</td><td>&quot;09/2008&quot;</td><td>2009</td><td>&quot;No&quot;</td><td>&quot;Hazel Robinson&quot;</td><td>53</td><td>66</td><td>1966</td><td>11</td><td>&quot;Female&quot;</td><td>&quot;462 Rose Lane&quot;</td><td>null</td><td>&quot;La Verne&quot;</td><td>&quot;CA&quot;</td><td>91750</td><td>34.15</td><td>-117.76</td><td>&quot;$29278&quot;</td><td>&quot;$59696&quot;</td><td>&quot;$127613&quot;</td><td>787</td><td>5</td></tr></tbody></table></div>"
      ],
      "text/plain": [
       "shape: (5, 45)\n",
       "┌──────┬──────┬──────┬───────┬───┬─────────────────┬────────────┬────────────┬──────────────────┐\n",
       "│ User ┆ Card ┆ Year ┆ Month ┆ … ┆ Yearly Income - ┆ Total Debt ┆ FICO Score ┆ Num Credit Cards │\n",
       "│ ---  ┆ ---  ┆ ---  ┆ ---   ┆   ┆ Person          ┆ ---        ┆ ---        ┆ ---              │\n",
       "│ i64  ┆ i64  ┆ i64  ┆ i64   ┆   ┆ ---             ┆ str        ┆ i64        ┆ i64              │\n",
       "│      ┆      ┆      ┆       ┆   ┆ str             ┆            ┆            ┆                  │\n",
       "╞══════╪══════╪══════╪═══════╪═══╪═════════════════╪════════════╪════════════╪══════════════════╡\n",
       "│ 0    ┆ 0    ┆ 2018 ┆ 1     ┆ … ┆ $59696          ┆ $127613    ┆ 787        ┆ 5                │\n",
       "│ 0    ┆ 0    ┆ 2018 ┆ 1     ┆ … ┆ $59696          ┆ $127613    ┆ 787        ┆ 5                │\n",
       "│ 0    ┆ 0    ┆ 2018 ┆ 1     ┆ … ┆ $59696          ┆ $127613    ┆ 787        ┆ 5                │\n",
       "│ 0    ┆ 0    ┆ 2018 ┆ 1     ┆ … ┆ $59696          ┆ $127613    ┆ 787        ┆ 5                │\n",
       "│ 0    ┆ 0    ┆ 2018 ┆ 1     ┆ … ┆ $59696          ┆ $127613    ┆ 787        ┆ 5                │\n",
       "└──────┴──────┴──────┴───────┴───┴─────────────────┴────────────┴────────────┴──────────────────┘"
      ]
     },
     "execution_count": 2,
     "metadata": {},
     "output_type": "execute_result"
    }
   ],
   "source": [
    "# Preview the columns to find out which columns needs to be adjusted\n",
    "df.head()"
   ]
  },
  {
   "cell_type": "code",
   "execution_count": 3,
   "metadata": {},
   "outputs": [
    {
     "data": {
      "text/html": [
       "<div><style>\n",
       ".dataframe > thead > tr,\n",
       ".dataframe > tbody > tr {\n",
       "  text-align: right;\n",
       "  white-space: pre-wrap;\n",
       "}\n",
       "</style>\n",
       "<small>shape: (5, 45)</small><table border=\"1\" class=\"dataframe\"><thead><tr><th>User</th><th>Card</th><th>Year</th><th>Month</th><th>Day</th><th>Amount</th><th>Use Chip</th><th>Merchant Name</th><th>Merchant City</th><th>Merchant State</th><th>Zip</th><th>MCC</th><th>Errors?</th><th>Is Fraud?</th><th>CARD INDEX</th><th>Card Brand</th><th>Card Type</th><th>Card Number</th><th>Expires</th><th>CVV</th><th>Has Chip</th><th>Cards Issued</th><th>Credit Limit</th><th>Acct Open Date</th><th>Year PIN last Changed</th><th>Card on Dark Web</th><th>Person</th><th>Current Age</th><th>Retirement Age</th><th>Birth Year</th><th>Birth Month</th><th>Gender</th><th>Address</th><th>Apartment</th><th>City</th><th>State</th><th>Zipcode</th><th>Latitude</th><th>Longitude</th><th>Per Capita Income - Zipcode</th><th>Yearly Income - Person</th><th>Total Debt</th><th>FICO Score</th><th>Num Credit Cards</th><th>Datetime</th></tr><tr><td>i64</td><td>i64</td><td>i32</td><td>i32</td><td>i32</td><td>str</td><td>str</td><td>i64</td><td>str</td><td>str</td><td>f64</td><td>i64</td><td>str</td><td>str</td><td>i64</td><td>str</td><td>str</td><td>i64</td><td>str</td><td>i64</td><td>str</td><td>i64</td><td>str</td><td>str</td><td>i64</td><td>str</td><td>str</td><td>i64</td><td>i64</td><td>i64</td><td>i64</td><td>str</td><td>str</td><td>i64</td><td>str</td><td>str</td><td>i64</td><td>f64</td><td>f64</td><td>str</td><td>str</td><td>str</td><td>i64</td><td>i64</td><td>datetime[μs]</td></tr></thead><tbody><tr><td>0</td><td>0</td><td>2018</td><td>1</td><td>2</td><td>&quot;$130.95&quot;</td><td>&quot;Chip Transaction&quot;</td><td>5817218446178736267</td><td>&quot;La Verne&quot;</td><td>&quot;CA&quot;</td><td>91750.0</td><td>5912</td><td>null</td><td>&quot;No&quot;</td><td>0</td><td>&quot;Visa&quot;</td><td>&quot;Debit&quot;</td><td>4344676511950444</td><td>&quot;12/2022&quot;</td><td>623</td><td>&quot;YES&quot;</td><td>2</td><td>&quot;$24295&quot;</td><td>&quot;09/2002&quot;</td><td>2008</td><td>&quot;No&quot;</td><td>&quot;Hazel Robinson&quot;</td><td>53</td><td>66</td><td>1966</td><td>11</td><td>&quot;Female&quot;</td><td>&quot;462 Rose Lane&quot;</td><td>null</td><td>&quot;La Verne&quot;</td><td>&quot;CA&quot;</td><td>91750</td><td>34.15</td><td>-117.76</td><td>&quot;$29278&quot;</td><td>&quot;$59696&quot;</td><td>&quot;$127613&quot;</td><td>787</td><td>5</td><td>2018-01-02 06:28:00</td></tr><tr><td>0</td><td>0</td><td>2018</td><td>1</td><td>2</td><td>&quot;$130.95&quot;</td><td>&quot;Chip Transaction&quot;</td><td>5817218446178736267</td><td>&quot;La Verne&quot;</td><td>&quot;CA&quot;</td><td>91750.0</td><td>5912</td><td>null</td><td>&quot;No&quot;</td><td>1</td><td>&quot;Visa&quot;</td><td>&quot;Debit&quot;</td><td>4956965974959986</td><td>&quot;12/2020&quot;</td><td>393</td><td>&quot;YES&quot;</td><td>2</td><td>&quot;$21968&quot;</td><td>&quot;04/2014&quot;</td><td>2014</td><td>&quot;No&quot;</td><td>&quot;Hazel Robinson&quot;</td><td>53</td><td>66</td><td>1966</td><td>11</td><td>&quot;Female&quot;</td><td>&quot;462 Rose Lane&quot;</td><td>null</td><td>&quot;La Verne&quot;</td><td>&quot;CA&quot;</td><td>91750</td><td>34.15</td><td>-117.76</td><td>&quot;$29278&quot;</td><td>&quot;$59696&quot;</td><td>&quot;$127613&quot;</td><td>787</td><td>5</td><td>2018-01-02 06:28:00</td></tr><tr><td>0</td><td>0</td><td>2018</td><td>1</td><td>2</td><td>&quot;$130.95&quot;</td><td>&quot;Chip Transaction&quot;</td><td>5817218446178736267</td><td>&quot;La Verne&quot;</td><td>&quot;CA&quot;</td><td>91750.0</td><td>5912</td><td>null</td><td>&quot;No&quot;</td><td>2</td><td>&quot;Visa&quot;</td><td>&quot;Debit&quot;</td><td>4582313478255491</td><td>&quot;02/2024&quot;</td><td>719</td><td>&quot;YES&quot;</td><td>2</td><td>&quot;$46414&quot;</td><td>&quot;07/2003&quot;</td><td>2004</td><td>&quot;No&quot;</td><td>&quot;Hazel Robinson&quot;</td><td>53</td><td>66</td><td>1966</td><td>11</td><td>&quot;Female&quot;</td><td>&quot;462 Rose Lane&quot;</td><td>null</td><td>&quot;La Verne&quot;</td><td>&quot;CA&quot;</td><td>91750</td><td>34.15</td><td>-117.76</td><td>&quot;$29278&quot;</td><td>&quot;$59696&quot;</td><td>&quot;$127613&quot;</td><td>787</td><td>5</td><td>2018-01-02 06:28:00</td></tr><tr><td>0</td><td>0</td><td>2018</td><td>1</td><td>2</td><td>&quot;$130.95&quot;</td><td>&quot;Chip Transaction&quot;</td><td>5817218446178736267</td><td>&quot;La Verne&quot;</td><td>&quot;CA&quot;</td><td>91750.0</td><td>5912</td><td>null</td><td>&quot;No&quot;</td><td>3</td><td>&quot;Visa&quot;</td><td>&quot;Credit&quot;</td><td>4879494103069057</td><td>&quot;08/2024&quot;</td><td>693</td><td>&quot;NO&quot;</td><td>1</td><td>&quot;$12400&quot;</td><td>&quot;01/2003&quot;</td><td>2012</td><td>&quot;No&quot;</td><td>&quot;Hazel Robinson&quot;</td><td>53</td><td>66</td><td>1966</td><td>11</td><td>&quot;Female&quot;</td><td>&quot;462 Rose Lane&quot;</td><td>null</td><td>&quot;La Verne&quot;</td><td>&quot;CA&quot;</td><td>91750</td><td>34.15</td><td>-117.76</td><td>&quot;$29278&quot;</td><td>&quot;$59696&quot;</td><td>&quot;$127613&quot;</td><td>787</td><td>5</td><td>2018-01-02 06:28:00</td></tr><tr><td>0</td><td>0</td><td>2018</td><td>1</td><td>2</td><td>&quot;$130.95&quot;</td><td>&quot;Chip Transaction&quot;</td><td>5817218446178736267</td><td>&quot;La Verne&quot;</td><td>&quot;CA&quot;</td><td>91750.0</td><td>5912</td><td>null</td><td>&quot;No&quot;</td><td>4</td><td>&quot;Mastercard&quot;</td><td>&quot;Debit (Prepaid)&quot;</td><td>5722874738736011</td><td>&quot;03/2009&quot;</td><td>75</td><td>&quot;YES&quot;</td><td>1</td><td>&quot;$28&quot;</td><td>&quot;09/2008&quot;</td><td>2009</td><td>&quot;No&quot;</td><td>&quot;Hazel Robinson&quot;</td><td>53</td><td>66</td><td>1966</td><td>11</td><td>&quot;Female&quot;</td><td>&quot;462 Rose Lane&quot;</td><td>null</td><td>&quot;La Verne&quot;</td><td>&quot;CA&quot;</td><td>91750</td><td>34.15</td><td>-117.76</td><td>&quot;$29278&quot;</td><td>&quot;$59696&quot;</td><td>&quot;$127613&quot;</td><td>787</td><td>5</td><td>2018-01-02 06:28:00</td></tr></tbody></table></div>"
      ],
      "text/plain": [
       "shape: (5, 45)\n",
       "┌──────┬──────┬──────┬───────┬───┬────────────┬────────────┬──────────────────┬──────────────┐\n",
       "│ User ┆ Card ┆ Year ┆ Month ┆ … ┆ Total Debt ┆ FICO Score ┆ Num Credit Cards ┆ Datetime     │\n",
       "│ ---  ┆ ---  ┆ ---  ┆ ---   ┆   ┆ ---        ┆ ---        ┆ ---              ┆ ---          │\n",
       "│ i64  ┆ i64  ┆ i32  ┆ i32   ┆   ┆ str        ┆ i64        ┆ i64              ┆ datetime[μs] │\n",
       "╞══════╪══════╪══════╪═══════╪═══╪════════════╪════════════╪══════════════════╪══════════════╡\n",
       "│ 0    ┆ 0    ┆ 2018 ┆ 1     ┆ … ┆ $127613    ┆ 787        ┆ 5                ┆ 2018-01-02   │\n",
       "│      ┆      ┆      ┆       ┆   ┆            ┆            ┆                  ┆ 06:28:00     │\n",
       "│ 0    ┆ 0    ┆ 2018 ┆ 1     ┆ … ┆ $127613    ┆ 787        ┆ 5                ┆ 2018-01-02   │\n",
       "│      ┆      ┆      ┆       ┆   ┆            ┆            ┆                  ┆ 06:28:00     │\n",
       "│ 0    ┆ 0    ┆ 2018 ┆ 1     ┆ … ┆ $127613    ┆ 787        ┆ 5                ┆ 2018-01-02   │\n",
       "│      ┆      ┆      ┆       ┆   ┆            ┆            ┆                  ┆ 06:28:00     │\n",
       "│ 0    ┆ 0    ┆ 2018 ┆ 1     ┆ … ┆ $127613    ┆ 787        ┆ 5                ┆ 2018-01-02   │\n",
       "│      ┆      ┆      ┆       ┆   ┆            ┆            ┆                  ┆ 06:28:00     │\n",
       "│ 0    ┆ 0    ┆ 2018 ┆ 1     ┆ … ┆ $127613    ┆ 787        ┆ 5                ┆ 2018-01-02   │\n",
       "│      ┆      ┆      ┆       ┆   ┆            ┆            ┆                  ┆ 06:28:00     │\n",
       "└──────┴──────┴──────┴───────┴───┴────────────┴────────────┴──────────────────┴──────────────┘"
      ]
     },
     "execution_count": 3,
     "metadata": {},
     "output_type": "execute_result"
    }
   ],
   "source": [
    "# Combine 'Year', 'Month', 'Day', and 'Time' into a single 'Datetime' column\n",
    "df = df.with_columns([\n",
    "    # Ensure 'Year', 'Month', 'Day' are numeric first\n",
    "    pl.col('Year').cast(pl.Int32).alias('Year'),\n",
    "    pl.col('Month').cast(pl.Int32).alias('Month'),\n",
    "    pl.col('Day').cast(pl.Int32).alias('Day'),\n",
    "    \n",
    "    # Ensure 'Time' is string for concatenation\n",
    "    pl.col('Time').cast(pl.Utf8).alias('Time'),\n",
    "\n",
    "    # Create a new 'Datetime_str' column by concatenating 'Year', 'Month', 'Day', and 'Time' as a string\n",
    "    pl.concat_str(\n",
    "        [pl.col(\"Year\").cast(pl.Utf8), \n",
    "         pl.col(\"Month\").cast(pl.Utf8).str.zfill(2), \n",
    "         pl.col(\"Day\").cast(pl.Utf8).str.zfill(2), \n",
    "         pl.col(\"Time\")],\n",
    "        separator=\"-\"\n",
    "    ).alias(\"Datetime_str\")\n",
    "])\n",
    "\n",
    "# Parse the concatenated 'Datetime_str' into a proper Datetime column\n",
    "df = df.with_columns([\n",
    "    pl.col(\"Datetime_str\").str.strptime(pl.Datetime, format=\"%Y-%m-%d-%H:%M\").alias(\"Datetime\")\n",
    "])\n",
    "\n",
    "# Drop unnecessary columns: Year, Month, Day, Time, and temporary Datetime_str\n",
    "df = df.drop([\"Time\", \"Datetime_str\"])\n",
    "\n",
    "df.head()"
   ]
  },
  {
   "cell_type": "code",
   "execution_count": 4,
   "metadata": {},
   "outputs": [
    {
     "data": {
      "text/html": [
       "<div><style>\n",
       ".dataframe > thead > tr,\n",
       ".dataframe > tbody > tr {\n",
       "  text-align: right;\n",
       "  white-space: pre-wrap;\n",
       "}\n",
       "</style>\n",
       "<small>shape: (5, 45)</small><table border=\"1\" class=\"dataframe\"><thead><tr><th>User</th><th>Card</th><th>Year</th><th>Month</th><th>Day</th><th>Amount</th><th>Use Chip</th><th>Merchant Name</th><th>Merchant City</th><th>Merchant State</th><th>Zip</th><th>MCC</th><th>Errors?</th><th>Is Fraud?</th><th>CARD INDEX</th><th>Card Brand</th><th>Card Type</th><th>Card Number</th><th>Expires</th><th>CVV</th><th>Has Chip</th><th>Cards Issued</th><th>Credit Limit</th><th>Acct Open Date</th><th>Year PIN last Changed</th><th>Card on Dark Web</th><th>Person</th><th>Current Age</th><th>Retirement Age</th><th>Birth Year</th><th>Birth Month</th><th>Gender</th><th>Address</th><th>Apartment</th><th>City</th><th>State</th><th>Zipcode</th><th>Latitude</th><th>Longitude</th><th>Per Capita Income - Zipcode</th><th>Yearly Income - Person</th><th>Total Debt</th><th>FICO Score</th><th>Num Credit Cards</th><th>Datetime</th></tr><tr><td>i64</td><td>i64</td><td>i32</td><td>i32</td><td>i32</td><td>f64</td><td>str</td><td>i64</td><td>str</td><td>str</td><td>f64</td><td>i64</td><td>str</td><td>str</td><td>i64</td><td>str</td><td>str</td><td>i64</td><td>str</td><td>i64</td><td>str</td><td>i64</td><td>f64</td><td>str</td><td>i64</td><td>str</td><td>str</td><td>i64</td><td>i64</td><td>i64</td><td>i64</td><td>str</td><td>str</td><td>i64</td><td>str</td><td>str</td><td>i64</td><td>f64</td><td>f64</td><td>str</td><td>f64</td><td>f64</td><td>i64</td><td>i64</td><td>datetime[μs]</td></tr></thead><tbody><tr><td>0</td><td>0</td><td>2018</td><td>1</td><td>2</td><td>130.95</td><td>&quot;Chip Transaction&quot;</td><td>5817218446178736267</td><td>&quot;La Verne&quot;</td><td>&quot;CA&quot;</td><td>91750.0</td><td>5912</td><td>null</td><td>&quot;No&quot;</td><td>0</td><td>&quot;Visa&quot;</td><td>&quot;Debit&quot;</td><td>4344676511950444</td><td>&quot;12/2022&quot;</td><td>623</td><td>&quot;YES&quot;</td><td>2</td><td>24295.0</td><td>&quot;09/2002&quot;</td><td>2008</td><td>&quot;No&quot;</td><td>&quot;Hazel Robinson&quot;</td><td>53</td><td>66</td><td>1966</td><td>11</td><td>&quot;Female&quot;</td><td>&quot;462 Rose Lane&quot;</td><td>null</td><td>&quot;La Verne&quot;</td><td>&quot;CA&quot;</td><td>91750</td><td>34.15</td><td>-117.76</td><td>&quot;$29278&quot;</td><td>59696.0</td><td>127613.0</td><td>787</td><td>5</td><td>2018-01-02 06:28:00</td></tr><tr><td>0</td><td>0</td><td>2018</td><td>1</td><td>2</td><td>130.95</td><td>&quot;Chip Transaction&quot;</td><td>5817218446178736267</td><td>&quot;La Verne&quot;</td><td>&quot;CA&quot;</td><td>91750.0</td><td>5912</td><td>null</td><td>&quot;No&quot;</td><td>1</td><td>&quot;Visa&quot;</td><td>&quot;Debit&quot;</td><td>4956965974959986</td><td>&quot;12/2020&quot;</td><td>393</td><td>&quot;YES&quot;</td><td>2</td><td>21968.0</td><td>&quot;04/2014&quot;</td><td>2014</td><td>&quot;No&quot;</td><td>&quot;Hazel Robinson&quot;</td><td>53</td><td>66</td><td>1966</td><td>11</td><td>&quot;Female&quot;</td><td>&quot;462 Rose Lane&quot;</td><td>null</td><td>&quot;La Verne&quot;</td><td>&quot;CA&quot;</td><td>91750</td><td>34.15</td><td>-117.76</td><td>&quot;$29278&quot;</td><td>59696.0</td><td>127613.0</td><td>787</td><td>5</td><td>2018-01-02 06:28:00</td></tr><tr><td>0</td><td>0</td><td>2018</td><td>1</td><td>2</td><td>130.95</td><td>&quot;Chip Transaction&quot;</td><td>5817218446178736267</td><td>&quot;La Verne&quot;</td><td>&quot;CA&quot;</td><td>91750.0</td><td>5912</td><td>null</td><td>&quot;No&quot;</td><td>2</td><td>&quot;Visa&quot;</td><td>&quot;Debit&quot;</td><td>4582313478255491</td><td>&quot;02/2024&quot;</td><td>719</td><td>&quot;YES&quot;</td><td>2</td><td>46414.0</td><td>&quot;07/2003&quot;</td><td>2004</td><td>&quot;No&quot;</td><td>&quot;Hazel Robinson&quot;</td><td>53</td><td>66</td><td>1966</td><td>11</td><td>&quot;Female&quot;</td><td>&quot;462 Rose Lane&quot;</td><td>null</td><td>&quot;La Verne&quot;</td><td>&quot;CA&quot;</td><td>91750</td><td>34.15</td><td>-117.76</td><td>&quot;$29278&quot;</td><td>59696.0</td><td>127613.0</td><td>787</td><td>5</td><td>2018-01-02 06:28:00</td></tr><tr><td>0</td><td>0</td><td>2018</td><td>1</td><td>2</td><td>130.95</td><td>&quot;Chip Transaction&quot;</td><td>5817218446178736267</td><td>&quot;La Verne&quot;</td><td>&quot;CA&quot;</td><td>91750.0</td><td>5912</td><td>null</td><td>&quot;No&quot;</td><td>3</td><td>&quot;Visa&quot;</td><td>&quot;Credit&quot;</td><td>4879494103069057</td><td>&quot;08/2024&quot;</td><td>693</td><td>&quot;NO&quot;</td><td>1</td><td>12400.0</td><td>&quot;01/2003&quot;</td><td>2012</td><td>&quot;No&quot;</td><td>&quot;Hazel Robinson&quot;</td><td>53</td><td>66</td><td>1966</td><td>11</td><td>&quot;Female&quot;</td><td>&quot;462 Rose Lane&quot;</td><td>null</td><td>&quot;La Verne&quot;</td><td>&quot;CA&quot;</td><td>91750</td><td>34.15</td><td>-117.76</td><td>&quot;$29278&quot;</td><td>59696.0</td><td>127613.0</td><td>787</td><td>5</td><td>2018-01-02 06:28:00</td></tr><tr><td>0</td><td>0</td><td>2018</td><td>1</td><td>2</td><td>130.95</td><td>&quot;Chip Transaction&quot;</td><td>5817218446178736267</td><td>&quot;La Verne&quot;</td><td>&quot;CA&quot;</td><td>91750.0</td><td>5912</td><td>null</td><td>&quot;No&quot;</td><td>4</td><td>&quot;Mastercard&quot;</td><td>&quot;Debit (Prepaid)&quot;</td><td>5722874738736011</td><td>&quot;03/2009&quot;</td><td>75</td><td>&quot;YES&quot;</td><td>1</td><td>28.0</td><td>&quot;09/2008&quot;</td><td>2009</td><td>&quot;No&quot;</td><td>&quot;Hazel Robinson&quot;</td><td>53</td><td>66</td><td>1966</td><td>11</td><td>&quot;Female&quot;</td><td>&quot;462 Rose Lane&quot;</td><td>null</td><td>&quot;La Verne&quot;</td><td>&quot;CA&quot;</td><td>91750</td><td>34.15</td><td>-117.76</td><td>&quot;$29278&quot;</td><td>59696.0</td><td>127613.0</td><td>787</td><td>5</td><td>2018-01-02 06:28:00</td></tr></tbody></table></div>"
      ],
      "text/plain": [
       "shape: (5, 45)\n",
       "┌──────┬──────┬──────┬───────┬───┬────────────┬────────────┬──────────────────┬──────────────┐\n",
       "│ User ┆ Card ┆ Year ┆ Month ┆ … ┆ Total Debt ┆ FICO Score ┆ Num Credit Cards ┆ Datetime     │\n",
       "│ ---  ┆ ---  ┆ ---  ┆ ---   ┆   ┆ ---        ┆ ---        ┆ ---              ┆ ---          │\n",
       "│ i64  ┆ i64  ┆ i32  ┆ i32   ┆   ┆ f64        ┆ i64        ┆ i64              ┆ datetime[μs] │\n",
       "╞══════╪══════╪══════╪═══════╪═══╪════════════╪════════════╪══════════════════╪══════════════╡\n",
       "│ 0    ┆ 0    ┆ 2018 ┆ 1     ┆ … ┆ 127613.0   ┆ 787        ┆ 5                ┆ 2018-01-02   │\n",
       "│      ┆      ┆      ┆       ┆   ┆            ┆            ┆                  ┆ 06:28:00     │\n",
       "│ 0    ┆ 0    ┆ 2018 ┆ 1     ┆ … ┆ 127613.0   ┆ 787        ┆ 5                ┆ 2018-01-02   │\n",
       "│      ┆      ┆      ┆       ┆   ┆            ┆            ┆                  ┆ 06:28:00     │\n",
       "│ 0    ┆ 0    ┆ 2018 ┆ 1     ┆ … ┆ 127613.0   ┆ 787        ┆ 5                ┆ 2018-01-02   │\n",
       "│      ┆      ┆      ┆       ┆   ┆            ┆            ┆                  ┆ 06:28:00     │\n",
       "│ 0    ┆ 0    ┆ 2018 ┆ 1     ┆ … ┆ 127613.0   ┆ 787        ┆ 5                ┆ 2018-01-02   │\n",
       "│      ┆      ┆      ┆       ┆   ┆            ┆            ┆                  ┆ 06:28:00     │\n",
       "│ 0    ┆ 0    ┆ 2018 ┆ 1     ┆ … ┆ 127613.0   ┆ 787        ┆ 5                ┆ 2018-01-02   │\n",
       "│      ┆      ┆      ┆       ┆   ┆            ┆            ┆                  ┆ 06:28:00     │\n",
       "└──────┴──────┴──────┴───────┴───┴────────────┴────────────┴──────────────────┴──────────────┘"
      ]
     },
     "execution_count": 4,
     "metadata": {},
     "output_type": "execute_result"
    }
   ],
   "source": [
    "import polars as pl\n",
    "\n",
    "# Clean the Amount and other financial columns before casting\n",
    "df = df.with_columns([\n",
    "    # Clean 'Amount' column\n",
    "    pl.when(pl.col(\"Amount\").is_not_null())\n",
    "      .then(pl.col(\"Amount\").str.replace('$', '', literal=True))  # Remove dollar signs and commas\n",
    "      .otherwise(None)  # Handle potential nulls\n",
    "      .cast(pl.Float64)  # Cast to Float64\n",
    "      .alias(\"Amount\"),\n",
    "    \n",
    "    # Clean 'Credit Limit' column\n",
    "    pl.when(pl.col(\"Credit Limit\").is_not_null())\n",
    "      .then(pl.col(\"Credit Limit\").str.replace('$', '', literal=True))\n",
    "      .otherwise(None)\n",
    "      .cast(pl.Float64)\n",
    "      .alias(\"Credit Limit\"),\n",
    "    \n",
    "    # Clean 'Yearly Income - Person' column\n",
    "    pl.when(pl.col(\"Yearly Income - Person\").is_not_null())\n",
    "      .then(pl.col(\"Yearly Income - Person\").str.replace('$', '', literal=True))\n",
    "      .otherwise(None)\n",
    "      .cast(pl.Float64)\n",
    "      .alias(\"Yearly Income - Person\"),\n",
    "    \n",
    "    # Clean 'Total Debt' column\n",
    "    pl.when(pl.col(\"Total Debt\").is_not_null())\n",
    "      .then(pl.col(\"Total Debt\").str.replace('$', '', literal=True))\n",
    "      .otherwise(None)\n",
    "      .cast(pl.Float64)\n",
    "      .alias(\"Total Debt\"),\n",
    "    \n",
    "    # Cast other columns directly\n",
    "    pl.col(\"FICO Score\").cast(pl.Int64).alias(\"FICO Score\"),\n",
    "    pl.col(\"Num Credit Cards\").cast(pl.Int64).alias(\"Num Credit Cards\")\n",
    "])\n",
    "\n",
    "# Display the head of the DataFrame to check the results\n",
    "df.head()"
   ]
  },
  {
   "cell_type": "code",
   "execution_count": 5,
   "metadata": {},
   "outputs": [
    {
     "data": {
      "text/html": [
       "<div><style>\n",
       ".dataframe > thead > tr,\n",
       ".dataframe > tbody > tr {\n",
       "  text-align: right;\n",
       "  white-space: pre-wrap;\n",
       "}\n",
       "</style>\n",
       "<small>shape: (5, 46)</small><table border=\"1\" class=\"dataframe\"><thead><tr><th>User</th><th>Card</th><th>Year</th><th>Month</th><th>Day</th><th>Amount</th><th>Use Chip</th><th>Merchant Name</th><th>Merchant City</th><th>Merchant State</th><th>Zip</th><th>MCC</th><th>Errors?</th><th>Is Fraud?</th><th>CARD INDEX</th><th>Card Brand</th><th>Card Type</th><th>Card Number</th><th>Expires</th><th>CVV</th><th>Has Chip</th><th>Cards Issued</th><th>Credit Limit</th><th>Acct Open Date</th><th>Year PIN last Changed</th><th>Card on Dark Web</th><th>Person</th><th>Current Age</th><th>Retirement Age</th><th>Birth Year</th><th>Birth Month</th><th>Gender</th><th>Address</th><th>Apartment</th><th>City</th><th>State</th><th>Zipcode</th><th>Latitude</th><th>Longitude</th><th>Per Capita Income - Zipcode</th><th>Yearly Income - Person</th><th>Total Debt</th><th>FICO Score</th><th>Num Credit Cards</th><th>Datetime</th><th>Is Fraud</th></tr><tr><td>i64</td><td>i64</td><td>i32</td><td>i32</td><td>i32</td><td>f64</td><td>str</td><td>i64</td><td>str</td><td>str</td><td>f64</td><td>i64</td><td>str</td><td>str</td><td>i64</td><td>str</td><td>str</td><td>i64</td><td>str</td><td>i64</td><td>i32</td><td>i64</td><td>f64</td><td>str</td><td>i64</td><td>i32</td><td>str</td><td>i64</td><td>i64</td><td>i64</td><td>i64</td><td>str</td><td>str</td><td>i64</td><td>str</td><td>str</td><td>i64</td><td>f64</td><td>f64</td><td>str</td><td>f64</td><td>f64</td><td>i64</td><td>i64</td><td>datetime[μs]</td><td>i32</td></tr></thead><tbody><tr><td>0</td><td>0</td><td>2018</td><td>1</td><td>2</td><td>130.95</td><td>&quot;Chip Transaction&quot;</td><td>5817218446178736267</td><td>&quot;La Verne&quot;</td><td>&quot;CA&quot;</td><td>91750.0</td><td>5912</td><td>null</td><td>&quot;No&quot;</td><td>0</td><td>&quot;Visa&quot;</td><td>&quot;Debit&quot;</td><td>4344676511950444</td><td>&quot;12/2022&quot;</td><td>623</td><td>1</td><td>2</td><td>24295.0</td><td>&quot;09/2002&quot;</td><td>2008</td><td>0</td><td>&quot;Hazel Robinson&quot;</td><td>53</td><td>66</td><td>1966</td><td>11</td><td>&quot;Female&quot;</td><td>&quot;462 Rose Lane&quot;</td><td>null</td><td>&quot;La Verne&quot;</td><td>&quot;CA&quot;</td><td>91750</td><td>34.15</td><td>-117.76</td><td>&quot;$29278&quot;</td><td>59696.0</td><td>127613.0</td><td>787</td><td>5</td><td>2018-01-02 06:28:00</td><td>0</td></tr><tr><td>0</td><td>0</td><td>2018</td><td>1</td><td>2</td><td>130.95</td><td>&quot;Chip Transaction&quot;</td><td>5817218446178736267</td><td>&quot;La Verne&quot;</td><td>&quot;CA&quot;</td><td>91750.0</td><td>5912</td><td>null</td><td>&quot;No&quot;</td><td>1</td><td>&quot;Visa&quot;</td><td>&quot;Debit&quot;</td><td>4956965974959986</td><td>&quot;12/2020&quot;</td><td>393</td><td>1</td><td>2</td><td>21968.0</td><td>&quot;04/2014&quot;</td><td>2014</td><td>0</td><td>&quot;Hazel Robinson&quot;</td><td>53</td><td>66</td><td>1966</td><td>11</td><td>&quot;Female&quot;</td><td>&quot;462 Rose Lane&quot;</td><td>null</td><td>&quot;La Verne&quot;</td><td>&quot;CA&quot;</td><td>91750</td><td>34.15</td><td>-117.76</td><td>&quot;$29278&quot;</td><td>59696.0</td><td>127613.0</td><td>787</td><td>5</td><td>2018-01-02 06:28:00</td><td>0</td></tr><tr><td>0</td><td>0</td><td>2018</td><td>1</td><td>2</td><td>130.95</td><td>&quot;Chip Transaction&quot;</td><td>5817218446178736267</td><td>&quot;La Verne&quot;</td><td>&quot;CA&quot;</td><td>91750.0</td><td>5912</td><td>null</td><td>&quot;No&quot;</td><td>2</td><td>&quot;Visa&quot;</td><td>&quot;Debit&quot;</td><td>4582313478255491</td><td>&quot;02/2024&quot;</td><td>719</td><td>1</td><td>2</td><td>46414.0</td><td>&quot;07/2003&quot;</td><td>2004</td><td>0</td><td>&quot;Hazel Robinson&quot;</td><td>53</td><td>66</td><td>1966</td><td>11</td><td>&quot;Female&quot;</td><td>&quot;462 Rose Lane&quot;</td><td>null</td><td>&quot;La Verne&quot;</td><td>&quot;CA&quot;</td><td>91750</td><td>34.15</td><td>-117.76</td><td>&quot;$29278&quot;</td><td>59696.0</td><td>127613.0</td><td>787</td><td>5</td><td>2018-01-02 06:28:00</td><td>0</td></tr><tr><td>0</td><td>0</td><td>2018</td><td>1</td><td>2</td><td>130.95</td><td>&quot;Chip Transaction&quot;</td><td>5817218446178736267</td><td>&quot;La Verne&quot;</td><td>&quot;CA&quot;</td><td>91750.0</td><td>5912</td><td>null</td><td>&quot;No&quot;</td><td>3</td><td>&quot;Visa&quot;</td><td>&quot;Credit&quot;</td><td>4879494103069057</td><td>&quot;08/2024&quot;</td><td>693</td><td>0</td><td>1</td><td>12400.0</td><td>&quot;01/2003&quot;</td><td>2012</td><td>0</td><td>&quot;Hazel Robinson&quot;</td><td>53</td><td>66</td><td>1966</td><td>11</td><td>&quot;Female&quot;</td><td>&quot;462 Rose Lane&quot;</td><td>null</td><td>&quot;La Verne&quot;</td><td>&quot;CA&quot;</td><td>91750</td><td>34.15</td><td>-117.76</td><td>&quot;$29278&quot;</td><td>59696.0</td><td>127613.0</td><td>787</td><td>5</td><td>2018-01-02 06:28:00</td><td>0</td></tr><tr><td>0</td><td>0</td><td>2018</td><td>1</td><td>2</td><td>130.95</td><td>&quot;Chip Transaction&quot;</td><td>5817218446178736267</td><td>&quot;La Verne&quot;</td><td>&quot;CA&quot;</td><td>91750.0</td><td>5912</td><td>null</td><td>&quot;No&quot;</td><td>4</td><td>&quot;Mastercard&quot;</td><td>&quot;Debit (Prepaid)&quot;</td><td>5722874738736011</td><td>&quot;03/2009&quot;</td><td>75</td><td>1</td><td>1</td><td>28.0</td><td>&quot;09/2008&quot;</td><td>2009</td><td>0</td><td>&quot;Hazel Robinson&quot;</td><td>53</td><td>66</td><td>1966</td><td>11</td><td>&quot;Female&quot;</td><td>&quot;462 Rose Lane&quot;</td><td>null</td><td>&quot;La Verne&quot;</td><td>&quot;CA&quot;</td><td>91750</td><td>34.15</td><td>-117.76</td><td>&quot;$29278&quot;</td><td>59696.0</td><td>127613.0</td><td>787</td><td>5</td><td>2018-01-02 06:28:00</td><td>0</td></tr></tbody></table></div>"
      ],
      "text/plain": [
       "shape: (5, 46)\n",
       "┌──────┬──────┬──────┬───────┬───┬────────────┬──────────────────┬─────────────────────┬──────────┐\n",
       "│ User ┆ Card ┆ Year ┆ Month ┆ … ┆ FICO Score ┆ Num Credit Cards ┆ Datetime            ┆ Is Fraud │\n",
       "│ ---  ┆ ---  ┆ ---  ┆ ---   ┆   ┆ ---        ┆ ---              ┆ ---                 ┆ ---      │\n",
       "│ i64  ┆ i64  ┆ i32  ┆ i32   ┆   ┆ i64        ┆ i64              ┆ datetime[μs]        ┆ i32      │\n",
       "╞══════╪══════╪══════╪═══════╪═══╪════════════╪══════════════════╪═════════════════════╪══════════╡\n",
       "│ 0    ┆ 0    ┆ 2018 ┆ 1     ┆ … ┆ 787        ┆ 5                ┆ 2018-01-02 06:28:00 ┆ 0        │\n",
       "│ 0    ┆ 0    ┆ 2018 ┆ 1     ┆ … ┆ 787        ┆ 5                ┆ 2018-01-02 06:28:00 ┆ 0        │\n",
       "│ 0    ┆ 0    ┆ 2018 ┆ 1     ┆ … ┆ 787        ┆ 5                ┆ 2018-01-02 06:28:00 ┆ 0        │\n",
       "│ 0    ┆ 0    ┆ 2018 ┆ 1     ┆ … ┆ 787        ┆ 5                ┆ 2018-01-02 06:28:00 ┆ 0        │\n",
       "│ 0    ┆ 0    ┆ 2018 ┆ 1     ┆ … ┆ 787        ┆ 5                ┆ 2018-01-02 06:28:00 ┆ 0        │\n",
       "└──────┴──────┴──────┴───────┴───┴────────────┴──────────────────┴─────────────────────┴──────────┘"
      ]
     },
     "execution_count": 5,
     "metadata": {},
     "output_type": "execute_result"
    }
   ],
   "source": [
    "# Convert columns 'Is Fraud?', 'Has Chip', 'Card on Dark Web' to boolean\n",
    "df = df.with_columns([\n",
    "    pl.when(pl.col(\"Is Fraud?\") == \"Yes\").then(1).otherwise(0).alias(\"Is Fraud\"),\n",
    "    pl.when(pl.col(\"Has Chip\") == \"YES\").then(1).otherwise(0).alias(\"Has Chip\"),\n",
    "    pl.when(pl.col(\"Card on Dark Web\") == \"Yes\").then(1).otherwise(0).alias(\"Card on Dark Web\")\n",
    "])\n",
    "df.head()"
   ]
  },
  {
   "cell_type": "code",
   "execution_count": 6,
   "metadata": {},
   "outputs": [],
   "source": [
    "# Ensure categorical or string columns are UTF8 type\n",
    "df = df.with_columns([\n",
    "    pl.col(\"User\").cast(pl.Utf8).alias(\"User\"),\n",
    "    pl.col(\"Card\").cast(pl.Utf8).alias(\"Card\"),\n",
    "    pl.col(\"Merchant Name\").cast(pl.Utf8).alias(\"Merchant Name\"),\n",
    "    pl.col(\"Card Brand\").cast(pl.Utf8).alias(\"Card Brand\"),\n",
    "    pl.col(\"Card Type\").cast(pl.Utf8).alias(\"Card Type\"),\n",
    "    pl.col(\"Merchant City\").cast(pl.Utf8).alias(\"Merchant City\"),\n",
    "    pl.col(\"Merchant State\").cast(pl.Utf8).alias(\"Merchant State\"),\n",
    "    pl.col(\"Zip\").cast(pl.Utf8).alias(\"Zip\"),\n",
    "    pl.col(\"Use Chip\").cast(pl.Utf8).alias(\"Use Chip\")\n",
    "])"
   ]
  },
  {
   "cell_type": "code",
   "execution_count": 7,
   "metadata": {},
   "outputs": [],
   "source": [
    "# Ensure 'Latitude' and 'Longitude' are float type\n",
    "df = df.with_columns([\n",
    "    pl.col(\"Latitude\").cast(pl.Float64).alias(\"Latitude\"),\n",
    "    pl.col(\"Longitude\").cast(pl.Float64).alias(\"Longitude\")\n",
    "])"
   ]
  },
  {
   "cell_type": "code",
   "execution_count": 8,
   "metadata": {},
   "outputs": [
    {
     "data": {
      "text/html": [
       "<div><style>\n",
       ".dataframe > thead > tr,\n",
       ".dataframe > tbody > tr {\n",
       "  text-align: right;\n",
       "  white-space: pre-wrap;\n",
       "}\n",
       "</style>\n",
       "<small>shape: (1, 46)</small><table border=\"1\" class=\"dataframe\"><thead><tr><th>User</th><th>Card</th><th>Year</th><th>Month</th><th>Day</th><th>Amount</th><th>Use Chip</th><th>Merchant Name</th><th>Merchant City</th><th>Merchant State</th><th>Zip</th><th>MCC</th><th>Errors?</th><th>Is Fraud?</th><th>CARD INDEX</th><th>Card Brand</th><th>Card Type</th><th>Card Number</th><th>Expires</th><th>CVV</th><th>Has Chip</th><th>Cards Issued</th><th>Credit Limit</th><th>Acct Open Date</th><th>Year PIN last Changed</th><th>Card on Dark Web</th><th>Person</th><th>Current Age</th><th>Retirement Age</th><th>Birth Year</th><th>Birth Month</th><th>Gender</th><th>Address</th><th>Apartment</th><th>City</th><th>State</th><th>Zipcode</th><th>Latitude</th><th>Longitude</th><th>Per Capita Income - Zipcode</th><th>Yearly Income - Person</th><th>Total Debt</th><th>FICO Score</th><th>Num Credit Cards</th><th>Datetime</th><th>Is Fraud</th></tr><tr><td>u32</td><td>u32</td><td>u32</td><td>u32</td><td>u32</td><td>u32</td><td>u32</td><td>u32</td><td>u32</td><td>u32</td><td>u32</td><td>u32</td><td>u32</td><td>u32</td><td>u32</td><td>u32</td><td>u32</td><td>u32</td><td>u32</td><td>u32</td><td>u32</td><td>u32</td><td>u32</td><td>u32</td><td>u32</td><td>u32</td><td>u32</td><td>u32</td><td>u32</td><td>u32</td><td>u32</td><td>u32</td><td>u32</td><td>u32</td><td>u32</td><td>u32</td><td>u32</td><td>u32</td><td>u32</td><td>u32</td><td>u32</td><td>u32</td><td>u32</td><td>u32</td><td>u32</td><td>u32</td></tr></thead><tbody><tr><td>0</td><td>0</td><td>0</td><td>0</td><td>0</td><td>0</td><td>0</td><td>0</td><td>0</td><td>1632162</td><td>1730569</td><td>0</td><td>13200124</td><td>0</td><td>0</td><td>0</td><td>0</td><td>0</td><td>0</td><td>0</td><td>0</td><td>0</td><td>0</td><td>0</td><td>0</td><td>0</td><td>0</td><td>0</td><td>0</td><td>0</td><td>0</td><td>0</td><td>0</td><td>9863188</td><td>0</td><td>0</td><td>0</td><td>0</td><td>0</td><td>0</td><td>0</td><td>0</td><td>0</td><td>0</td><td>0</td><td>0</td></tr></tbody></table></div>"
      ],
      "text/plain": [
       "shape: (1, 46)\n",
       "┌──────┬──────┬──────┬───────┬───┬────────────┬──────────────────┬──────────┬──────────┐\n",
       "│ User ┆ Card ┆ Year ┆ Month ┆ … ┆ FICO Score ┆ Num Credit Cards ┆ Datetime ┆ Is Fraud │\n",
       "│ ---  ┆ ---  ┆ ---  ┆ ---   ┆   ┆ ---        ┆ ---              ┆ ---      ┆ ---      │\n",
       "│ u32  ┆ u32  ┆ u32  ┆ u32   ┆   ┆ u32        ┆ u32              ┆ u32      ┆ u32      │\n",
       "╞══════╪══════╪══════╪═══════╪═══╪════════════╪══════════════════╪══════════╪══════════╡\n",
       "│ 0    ┆ 0    ┆ 0    ┆ 0     ┆ … ┆ 0          ┆ 0                ┆ 0        ┆ 0        │\n",
       "└──────┴──────┴──────┴───────┴───┴────────────┴──────────────────┴──────────┴──────────┘"
      ]
     },
     "execution_count": 8,
     "metadata": {},
     "output_type": "execute_result"
    }
   ],
   "source": [
    "# Find all the nulls within the data\n",
    "df.null_count()"
   ]
  },
  {
   "cell_type": "code",
   "execution_count": 9,
   "metadata": {},
   "outputs": [
    {
     "data": {
      "text/html": [
       "<div><style>\n",
       ".dataframe > thead > tr,\n",
       ".dataframe > tbody > tr {\n",
       "  text-align: right;\n",
       "  white-space: pre-wrap;\n",
       "}\n",
       "</style>\n",
       "<small>shape: (5, 46)</small><table border=\"1\" class=\"dataframe\"><thead><tr><th>User</th><th>Card</th><th>Year</th><th>Month</th><th>Day</th><th>Amount</th><th>Use Chip</th><th>Merchant Name</th><th>Merchant City</th><th>Merchant State</th><th>Zip</th><th>MCC</th><th>Errors?</th><th>Is Fraud?</th><th>CARD INDEX</th><th>Card Brand</th><th>Card Type</th><th>Card Number</th><th>Expires</th><th>CVV</th><th>Has Chip</th><th>Cards Issued</th><th>Credit Limit</th><th>Acct Open Date</th><th>Year PIN last Changed</th><th>Card on Dark Web</th><th>Person</th><th>Current Age</th><th>Retirement Age</th><th>Birth Year</th><th>Birth Month</th><th>Gender</th><th>Address</th><th>Apartment</th><th>City</th><th>State</th><th>Zipcode</th><th>Latitude</th><th>Longitude</th><th>Per Capita Income - Zipcode</th><th>Yearly Income - Person</th><th>Total Debt</th><th>FICO Score</th><th>Num Credit Cards</th><th>Datetime</th><th>Is Fraud</th></tr><tr><td>str</td><td>str</td><td>i32</td><td>i32</td><td>i32</td><td>f64</td><td>str</td><td>str</td><td>str</td><td>str</td><td>str</td><td>i64</td><td>str</td><td>str</td><td>i64</td><td>str</td><td>str</td><td>i64</td><td>str</td><td>i64</td><td>i32</td><td>i64</td><td>f64</td><td>str</td><td>i64</td><td>i32</td><td>str</td><td>i64</td><td>i64</td><td>i64</td><td>i64</td><td>str</td><td>str</td><td>str</td><td>str</td><td>str</td><td>i64</td><td>f64</td><td>f64</td><td>str</td><td>f64</td><td>f64</td><td>i64</td><td>i64</td><td>datetime[μs]</td><td>i32</td></tr></thead><tbody><tr><td>&quot;0&quot;</td><td>&quot;0&quot;</td><td>2018</td><td>1</td><td>2</td><td>130.95</td><td>&quot;Chip Transaction&quot;</td><td>&quot;5817218446178736267&quot;</td><td>&quot;La Verne&quot;</td><td>&quot;CA&quot;</td><td>&quot;91750.0&quot;</td><td>5912</td><td>&quot;0&quot;</td><td>&quot;No&quot;</td><td>0</td><td>&quot;Visa&quot;</td><td>&quot;Debit&quot;</td><td>4344676511950444</td><td>&quot;12/2022&quot;</td><td>623</td><td>1</td><td>2</td><td>24295.0</td><td>&quot;09/2002&quot;</td><td>2008</td><td>0</td><td>&quot;Hazel Robinson&quot;</td><td>53</td><td>66</td><td>1966</td><td>11</td><td>&quot;Female&quot;</td><td>&quot;462 Rose Lane&quot;</td><td>&quot;Unknown&quot;</td><td>&quot;La Verne&quot;</td><td>&quot;CA&quot;</td><td>91750</td><td>34.15</td><td>-117.76</td><td>&quot;$29278&quot;</td><td>59696.0</td><td>127613.0</td><td>787</td><td>5</td><td>2018-01-02 06:28:00</td><td>0</td></tr><tr><td>&quot;0&quot;</td><td>&quot;0&quot;</td><td>2018</td><td>1</td><td>2</td><td>130.95</td><td>&quot;Chip Transaction&quot;</td><td>&quot;5817218446178736267&quot;</td><td>&quot;La Verne&quot;</td><td>&quot;CA&quot;</td><td>&quot;91750.0&quot;</td><td>5912</td><td>&quot;0&quot;</td><td>&quot;No&quot;</td><td>1</td><td>&quot;Visa&quot;</td><td>&quot;Debit&quot;</td><td>4956965974959986</td><td>&quot;12/2020&quot;</td><td>393</td><td>1</td><td>2</td><td>21968.0</td><td>&quot;04/2014&quot;</td><td>2014</td><td>0</td><td>&quot;Hazel Robinson&quot;</td><td>53</td><td>66</td><td>1966</td><td>11</td><td>&quot;Female&quot;</td><td>&quot;462 Rose Lane&quot;</td><td>&quot;Unknown&quot;</td><td>&quot;La Verne&quot;</td><td>&quot;CA&quot;</td><td>91750</td><td>34.15</td><td>-117.76</td><td>&quot;$29278&quot;</td><td>59696.0</td><td>127613.0</td><td>787</td><td>5</td><td>2018-01-02 06:28:00</td><td>0</td></tr><tr><td>&quot;0&quot;</td><td>&quot;0&quot;</td><td>2018</td><td>1</td><td>2</td><td>130.95</td><td>&quot;Chip Transaction&quot;</td><td>&quot;5817218446178736267&quot;</td><td>&quot;La Verne&quot;</td><td>&quot;CA&quot;</td><td>&quot;91750.0&quot;</td><td>5912</td><td>&quot;0&quot;</td><td>&quot;No&quot;</td><td>2</td><td>&quot;Visa&quot;</td><td>&quot;Debit&quot;</td><td>4582313478255491</td><td>&quot;02/2024&quot;</td><td>719</td><td>1</td><td>2</td><td>46414.0</td><td>&quot;07/2003&quot;</td><td>2004</td><td>0</td><td>&quot;Hazel Robinson&quot;</td><td>53</td><td>66</td><td>1966</td><td>11</td><td>&quot;Female&quot;</td><td>&quot;462 Rose Lane&quot;</td><td>&quot;Unknown&quot;</td><td>&quot;La Verne&quot;</td><td>&quot;CA&quot;</td><td>91750</td><td>34.15</td><td>-117.76</td><td>&quot;$29278&quot;</td><td>59696.0</td><td>127613.0</td><td>787</td><td>5</td><td>2018-01-02 06:28:00</td><td>0</td></tr><tr><td>&quot;0&quot;</td><td>&quot;0&quot;</td><td>2018</td><td>1</td><td>2</td><td>130.95</td><td>&quot;Chip Transaction&quot;</td><td>&quot;5817218446178736267&quot;</td><td>&quot;La Verne&quot;</td><td>&quot;CA&quot;</td><td>&quot;91750.0&quot;</td><td>5912</td><td>&quot;0&quot;</td><td>&quot;No&quot;</td><td>3</td><td>&quot;Visa&quot;</td><td>&quot;Credit&quot;</td><td>4879494103069057</td><td>&quot;08/2024&quot;</td><td>693</td><td>0</td><td>1</td><td>12400.0</td><td>&quot;01/2003&quot;</td><td>2012</td><td>0</td><td>&quot;Hazel Robinson&quot;</td><td>53</td><td>66</td><td>1966</td><td>11</td><td>&quot;Female&quot;</td><td>&quot;462 Rose Lane&quot;</td><td>&quot;Unknown&quot;</td><td>&quot;La Verne&quot;</td><td>&quot;CA&quot;</td><td>91750</td><td>34.15</td><td>-117.76</td><td>&quot;$29278&quot;</td><td>59696.0</td><td>127613.0</td><td>787</td><td>5</td><td>2018-01-02 06:28:00</td><td>0</td></tr><tr><td>&quot;0&quot;</td><td>&quot;0&quot;</td><td>2018</td><td>1</td><td>2</td><td>130.95</td><td>&quot;Chip Transaction&quot;</td><td>&quot;5817218446178736267&quot;</td><td>&quot;La Verne&quot;</td><td>&quot;CA&quot;</td><td>&quot;91750.0&quot;</td><td>5912</td><td>&quot;0&quot;</td><td>&quot;No&quot;</td><td>4</td><td>&quot;Mastercard&quot;</td><td>&quot;Debit (Prepaid)&quot;</td><td>5722874738736011</td><td>&quot;03/2009&quot;</td><td>75</td><td>1</td><td>1</td><td>28.0</td><td>&quot;09/2008&quot;</td><td>2009</td><td>0</td><td>&quot;Hazel Robinson&quot;</td><td>53</td><td>66</td><td>1966</td><td>11</td><td>&quot;Female&quot;</td><td>&quot;462 Rose Lane&quot;</td><td>&quot;Unknown&quot;</td><td>&quot;La Verne&quot;</td><td>&quot;CA&quot;</td><td>91750</td><td>34.15</td><td>-117.76</td><td>&quot;$29278&quot;</td><td>59696.0</td><td>127613.0</td><td>787</td><td>5</td><td>2018-01-02 06:28:00</td><td>0</td></tr></tbody></table></div>"
      ],
      "text/plain": [
       "shape: (5, 46)\n",
       "┌──────┬──────┬──────┬───────┬───┬────────────┬──────────────────┬─────────────────────┬──────────┐\n",
       "│ User ┆ Card ┆ Year ┆ Month ┆ … ┆ FICO Score ┆ Num Credit Cards ┆ Datetime            ┆ Is Fraud │\n",
       "│ ---  ┆ ---  ┆ ---  ┆ ---   ┆   ┆ ---        ┆ ---              ┆ ---                 ┆ ---      │\n",
       "│ str  ┆ str  ┆ i32  ┆ i32   ┆   ┆ i64        ┆ i64              ┆ datetime[μs]        ┆ i32      │\n",
       "╞══════╪══════╪══════╪═══════╪═══╪════════════╪══════════════════╪═════════════════════╪══════════╡\n",
       "│ 0    ┆ 0    ┆ 2018 ┆ 1     ┆ … ┆ 787        ┆ 5                ┆ 2018-01-02 06:28:00 ┆ 0        │\n",
       "│ 0    ┆ 0    ┆ 2018 ┆ 1     ┆ … ┆ 787        ┆ 5                ┆ 2018-01-02 06:28:00 ┆ 0        │\n",
       "│ 0    ┆ 0    ┆ 2018 ┆ 1     ┆ … ┆ 787        ┆ 5                ┆ 2018-01-02 06:28:00 ┆ 0        │\n",
       "│ 0    ┆ 0    ┆ 2018 ┆ 1     ┆ … ┆ 787        ┆ 5                ┆ 2018-01-02 06:28:00 ┆ 0        │\n",
       "│ 0    ┆ 0    ┆ 2018 ┆ 1     ┆ … ┆ 787        ┆ 5                ┆ 2018-01-02 06:28:00 ┆ 0        │\n",
       "└──────┴──────┴──────┴───────┴───┴────────────┴──────────────────┴─────────────────────┴──────────┘"
      ]
     },
     "execution_count": 9,
     "metadata": {},
     "output_type": "execute_result"
    }
   ],
   "source": [
    "# Fill null values with appropriate defaults\n",
    "df = df.with_columns([\n",
    "    pl.col(\"Zip\").fill_null(\"Unknown\"),\n",
    "    pl.col(\"Errors?\").fill_null(0),\n",
    "    pl.col(\"Merchant State\").fill_null(\"Unknown\"),\n",
    "    pl.col(\"Apartment\").fill_null(\"Unknown\")\n",
    "])\n",
    "df.head()"
   ]
  },
  {
   "cell_type": "code",
   "execution_count": 10,
   "metadata": {},
   "outputs": [
    {
     "data": {
      "text/html": [
       "<div><style>\n",
       ".dataframe > thead > tr,\n",
       ".dataframe > tbody > tr {\n",
       "  text-align: right;\n",
       "  white-space: pre-wrap;\n",
       "}\n",
       "</style>\n",
       "<small>shape: (1, 46)</small><table border=\"1\" class=\"dataframe\"><thead><tr><th>User</th><th>Card</th><th>Year</th><th>Month</th><th>Day</th><th>Amount</th><th>Use Chip</th><th>Merchant Name</th><th>Merchant City</th><th>Merchant State</th><th>Zip</th><th>MCC</th><th>Errors?</th><th>Is Fraud?</th><th>CARD INDEX</th><th>Card Brand</th><th>Card Type</th><th>Card Number</th><th>Expires</th><th>CVV</th><th>Has Chip</th><th>Cards Issued</th><th>Credit Limit</th><th>Acct Open Date</th><th>Year PIN last Changed</th><th>Card on Dark Web</th><th>Person</th><th>Current Age</th><th>Retirement Age</th><th>Birth Year</th><th>Birth Month</th><th>Gender</th><th>Address</th><th>Apartment</th><th>City</th><th>State</th><th>Zipcode</th><th>Latitude</th><th>Longitude</th><th>Per Capita Income - Zipcode</th><th>Yearly Income - Person</th><th>Total Debt</th><th>FICO Score</th><th>Num Credit Cards</th><th>Datetime</th><th>Is Fraud</th></tr><tr><td>u32</td><td>u32</td><td>u32</td><td>u32</td><td>u32</td><td>u32</td><td>u32</td><td>u32</td><td>u32</td><td>u32</td><td>u32</td><td>u32</td><td>u32</td><td>u32</td><td>u32</td><td>u32</td><td>u32</td><td>u32</td><td>u32</td><td>u32</td><td>u32</td><td>u32</td><td>u32</td><td>u32</td><td>u32</td><td>u32</td><td>u32</td><td>u32</td><td>u32</td><td>u32</td><td>u32</td><td>u32</td><td>u32</td><td>u32</td><td>u32</td><td>u32</td><td>u32</td><td>u32</td><td>u32</td><td>u32</td><td>u32</td><td>u32</td><td>u32</td><td>u32</td><td>u32</td><td>u32</td></tr></thead><tbody><tr><td>0</td><td>0</td><td>0</td><td>0</td><td>0</td><td>0</td><td>0</td><td>0</td><td>0</td><td>0</td><td>0</td><td>0</td><td>0</td><td>0</td><td>0</td><td>0</td><td>0</td><td>0</td><td>0</td><td>0</td><td>0</td><td>0</td><td>0</td><td>0</td><td>0</td><td>0</td><td>0</td><td>0</td><td>0</td><td>0</td><td>0</td><td>0</td><td>0</td><td>0</td><td>0</td><td>0</td><td>0</td><td>0</td><td>0</td><td>0</td><td>0</td><td>0</td><td>0</td><td>0</td><td>0</td><td>0</td></tr></tbody></table></div>"
      ],
      "text/plain": [
       "shape: (1, 46)\n",
       "┌──────┬──────┬──────┬───────┬───┬────────────┬──────────────────┬──────────┬──────────┐\n",
       "│ User ┆ Card ┆ Year ┆ Month ┆ … ┆ FICO Score ┆ Num Credit Cards ┆ Datetime ┆ Is Fraud │\n",
       "│ ---  ┆ ---  ┆ ---  ┆ ---   ┆   ┆ ---        ┆ ---              ┆ ---      ┆ ---      │\n",
       "│ u32  ┆ u32  ┆ u32  ┆ u32   ┆   ┆ u32        ┆ u32              ┆ u32      ┆ u32      │\n",
       "╞══════╪══════╪══════╪═══════╪═══╪════════════╪══════════════════╪══════════╪══════════╡\n",
       "│ 0    ┆ 0    ┆ 0    ┆ 0     ┆ … ┆ 0          ┆ 0                ┆ 0        ┆ 0        │\n",
       "└──────┴──────┴──────┴───────┴───┴────────────┴──────────────────┴──────────┴──────────┘"
      ]
     },
     "execution_count": 10,
     "metadata": {},
     "output_type": "execute_result"
    }
   ],
   "source": [
    "# Check if all the null_counts are null\n",
    "df.null_count()"
   ]
  },
  {
   "cell_type": "code",
   "execution_count": 11,
   "metadata": {},
   "outputs": [],
   "source": [
    "# Save the type checked data\n",
    "df.write_parquet(\"../0 - Data/type_checked_transactions.pq\")"
   ]
  }
 ],
 "metadata": {
  "kernelspec": {
   "display_name": ".venv",
   "language": "python",
   "name": "python3"
  },
  "language_info": {
   "codemirror_mode": {
    "name": "ipython",
    "version": 3
   },
   "file_extension": ".py",
   "mimetype": "text/x-python",
   "name": "python",
   "nbconvert_exporter": "python",
   "pygments_lexer": "ipython3",
   "version": "3.9.10"
  }
 },
 "nbformat": 4,
 "nbformat_minor": 2
}
